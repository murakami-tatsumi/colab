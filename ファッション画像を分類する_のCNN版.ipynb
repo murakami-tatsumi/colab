{
  "nbformat": 4,
  "nbformat_minor": 0,
  "metadata": {
    "colab": {
      "name": "ファッション画像を分類する のコピー",
      "version": "0.3.2",
      "provenance": [],
      "collapsed_sections": [],
      "toc_visible": true,
      "include_colab_link": true
    },
    "kernelspec": {
      "display_name": "Python 3",
      "language": "python",
      "name": "python3"
    },
    "accelerator": "GPU"
  },
  "cells": [
    {
      "cell_type": "markdown",
      "metadata": {
        "id": "view-in-github",
        "colab_type": "text"
      },
      "source": [
        "<a href=\"https://colab.research.google.com/github/murakami-tatsumi/colab/blob/master/%E3%83%95%E3%82%A1%E3%83%83%E3%82%B7%E3%83%A7%E3%83%B3%E7%94%BB%E5%83%8F%E3%82%92%E5%88%86%E9%A1%9E%E3%81%99%E3%82%8B_%E3%81%AECNN%E7%89%88.ipynb\" target=\"_parent\"><img src=\"https://colab.research.google.com/assets/colab-badge.svg\" alt=\"Open In Colab\"/></a>"
      ]
    },
    {
      "cell_type": "markdown",
      "metadata": {
        "colab_type": "text",
        "id": "ixFXaLZ2NBst"
      },
      "source": [
        "##### Copyright 2018 The TensorFlow Authors."
      ]
    },
    {
      "cell_type": "markdown",
      "metadata": {
        "id": "BPmbAOuLM5KI",
        "colab_type": "text"
      },
      "source": [
        "##### Modifications Copyright 2019 Tomoaki Masuda."
      ]
    },
    {
      "cell_type": "code",
      "metadata": {
        "colab_type": "code",
        "id": "kViJmfJvNBsy",
        "colab": {}
      },
      "source": [
        "#@title Licensed under the Apache License, Version 2.0 (the \"License\");\n",
        "# you may not use this file except in compliance with the License.\n",
        "# You may obtain a copy of the License at\n",
        "#\n",
        "# https://www.apache.org/licenses/LICENSE-2.0\n",
        "#\n",
        "# Unless required by applicable law or agreed to in writing, software\n",
        "# distributed under the License is distributed on an \"AS IS\" BASIS,\n",
        "# WITHOUT WARRANTIES OR CONDITIONS OF ANY KIND, either express or implied.\n",
        "# See the License for the specific language governing permissions and\n",
        "# limitations under the License."
      ],
      "execution_count": 0,
      "outputs": []
    },
    {
      "cell_type": "code",
      "metadata": {
        "colab_type": "code",
        "id": "vvxbW1-kNBs5",
        "colab": {}
      },
      "source": [
        "#@title MIT License\n",
        "#\n",
        "# Copyright (c) 2017 François Chollet\n",
        "#\n",
        "# Permission is hereby granted, free of charge, to any person obtaining a\n",
        "# copy of this software and associated documentation files (the \"Software\"),\n",
        "# to deal in the Software without restriction, including without limitation\n",
        "# the rights to use, copy, modify, merge, publish, distribute, sublicense,\n",
        "# and/or sell copies of the Software, and to permit persons to whom the\n",
        "# Software is furnished to do so, subject to the following conditions:\n",
        "#\n",
        "# The above copyright notice and this permission notice shall be included in\n",
        "# all copies or substantial portions of the Software.\n",
        "#\n",
        "# THE SOFTWARE IS PROVIDED \"AS IS\", WITHOUT WARRANTY OF ANY KIND, EXPRESS OR\n",
        "# IMPLIED, INCLUDING BUT NOT LIMITED TO THE WARRANTIES OF MERCHANTABILITY,\n",
        "# FITNESS FOR A PARTICULAR PURPOSE AND NONINFRINGEMENT. IN NO EVENT SHALL\n",
        "# THE AUTHORS OR COPYRIGHT HOLDERS BE LIABLE FOR ANY CLAIM, DAMAGES OR OTHER\n",
        "# LIABILITY, WHETHER IN AN ACTION OF CONTRACT, TORT OR OTHERWISE, ARISING\n",
        "# FROM, OUT OF OR IN CONNECTION WITH THE SOFTWARE OR THE USE OR OTHER\n",
        "# DEALINGS IN THE SOFTWARE."
      ],
      "execution_count": 0,
      "outputs": []
    },
    {
      "cell_type": "markdown",
      "metadata": {
        "id": "XqNcaYU-M5KO",
        "colab_type": "text"
      },
      "source": [
        "このノートブックは、以下のノートブックを元に日本語訳、一部章立ての再構成、加筆を行いました。https://github.com/tensorflow/docs/blob/master/site/en/tutorials/keras/basic_classification.ipynb"
      ]
    },
    {
      "cell_type": "markdown",
      "metadata": {
        "colab_type": "text",
        "id": "shXLyQxMNBtB"
      },
      "source": [
        "\n",
        "# はじめてのニューラルネットワークを学習する：基本の分類問題を解く\n"
      ]
    },
    {
      "cell_type": "markdown",
      "metadata": {
        "colab_type": "text",
        "id": "Yloripg3NBtI"
      },
      "source": [
        "\n",
        "このチュートリアルでは、スニーカーやシャツなどの衣料品画像を分類するニューラルネットワークモデルの学習を試します。始めるにあたって、詳細が分からなくても心配はいりません。ノートブックでは、ざっとTensorFlowの全体を概観し、進めながら詳細を説明します。 \n"
      ]
    },
    {
      "cell_type": "markdown",
      "metadata": {
        "id": "rYgMLWHVM5KQ",
        "colab_type": "text"
      },
      "source": [
        "## A. 環境を準備する\n",
        "\n",
        "ここでは、TensorFlowでモデルを構築・学習するための高レベルAPIである [tf.keras](https://www.tensorflow.org/guide/keras)を使います。"
      ]
    },
    {
      "cell_type": "code",
      "metadata": {
        "colab_type": "code",
        "id": "X_FfINBLNBtJ",
        "outputId": "c226f8df-ab75-44a3-ed9b-923dbcc8dc79",
        "colab": {
          "base_uri": "https://localhost:8080/",
          "height": 34
        }
      },
      "source": [
        "from __future__ import absolute_import, division, print_function\n",
        "\n",
        "# TensorFlow and tf.keras\n",
        "import tensorflow as tf\n",
        "from tensorflow import keras\n",
        "\n",
        "# Helper libraries\n",
        "import numpy as np\n",
        "import matplotlib.pyplot as plt\n",
        "\n",
        "print(tf.__version__)"
      ],
      "execution_count": 1,
      "outputs": [
        {
          "output_type": "stream",
          "text": [
            "1.14.0\n"
          ],
          "name": "stdout"
        }
      ]
    },
    {
      "cell_type": "markdown",
      "metadata": {
        "id": "gLiJfEWCM5KT",
        "colab_type": "text"
      },
      "source": [
        "## B. データセットを準備する"
      ]
    },
    {
      "cell_type": "markdown",
      "metadata": {
        "colab_type": "text",
        "id": "3os4HMI9NBtQ"
      },
      "source": [
        "\n",
        "### 1. データセットをインポートする\n"
      ]
    },
    {
      "cell_type": "markdown",
      "metadata": {
        "colab_type": "text",
        "id": "Beuw8ywfNBtT"
      },
      "source": [
        "このチュートリアルでは、10カテゴリ、7万枚のグレースケール画像を含む[Fashion MNIST](https://github.com/zalandoresearch/fashion-mnist)データセットを使います。データセットは、以下のような色々な衣料品の低解像度（28 x 28ピクセル）画像です。\n",
        "\n",
        "<table>\n",
        "  <tr><td>\n",
        "    <img src=\"https://tensorflow.org/images/fashion-mnist-sprite.png\"\n",
        "         alt=\"Fashion MNIST sprite\"  width=\"600\">\n",
        "  </td></tr>\n",
        "  <tr><td align=\"center\">\n",
        "    <b>図 1.</b> <a href=\"https://github.com/zalandoresearch/fashion-mnist\">Fashion-MNIST samples</a> (by Zalando, MIT License).<br/>&nbsp;\n",
        "  </td></tr>\n",
        "</table>\n",
        "\n",
        " Fashion MNISTは、古典的な[MNIST](http://yann.lecun.com/exdb/mnist/)データセットの代わりに使えるものとして作られました。MNISTは機械学習を使った画像認識の \"Hello, World\" (最初の題材)としてよく使われます。 MNISTデータセットは、Fashion MNISTの衣料品と同じ形式で、手書き数字の画像（0、1、2...9）が含まれています。 \n",
        "\n",
        "このチュートリアルは、Fashion MNISTを色々な使い方をしてみる、通常のMNISTよりやや難易度の高いものです。MNIST、Fashion MNIST共に、データセットは比較的小さく、アルゴリズムが予想通りに機能するかの確認に使えます。コードのテスト、デバッグには良い出発点です。 \n",
        "\n",
        "ネットワークの学習に6万枚の画像、分類をどれだけ正確に学習したかの評価に1万枚の画像を使います。TensorFlowからFashion MNISTデータセットを直接扱えるので手軽です。以下のように、データをインポート、ロードできます。\n"
      ]
    },
    {
      "cell_type": "code",
      "metadata": {
        "colab_type": "code",
        "id": "iSt-6z1ENBtV",
        "colab": {}
      },
      "source": [
        "fashion_mnist = keras.datasets.fashion_mnist\n",
        "\n",
        "(train_images, train_labels), (test_images, test_labels) = fashion_mnist.load_data()"
      ],
      "execution_count": 0,
      "outputs": []
    },
    {
      "cell_type": "markdown",
      "metadata": {
        "colab_type": "text",
        "id": "Gv7P8YyXNBtd"
      },
      "source": [
        "\n",
        "データセットをロードすると、4つのNumPy配列が返されます。配列とは、たくさんの数字の並んだ集まりだと考えてください。 \n",
        "\n",
        "-  `train_images`, `train_labels` の2配列は、つまりモデルが学習に使う学習データセットです。 \n",
        "-  `test_images`, `test_labels` の2配列は、モデルがテストに使うテストデータセットです。 \n",
        "\n",
        "画像は28 x 28 NumPyの配列です。1ピクセルに1つの数字が対応し、各ピクセルは0から255の間の値をとります。各画像には、その画像の*クラス(種類)*に応じて0から9の間の*ラベル*があります。ラベルが画像の並びに対応して並んだ配列として保存されています。\n",
        "\n",
        "\n",
        "<table>\n",
        "  <tr>\n",
        "    <th>Label</th>\n",
        "    <th>Class</th> \n",
        "  </tr>\n",
        "  <tr>\n",
        "    <td>0</td>\n",
        "    <td>T-shirt/top</td> \n",
        "  </tr>\n",
        "  <tr>\n",
        "    <td>1</td>\n",
        "    <td>Trouser</td> \n",
        "  </tr>\n",
        "    <tr>\n",
        "    <td>2</td>\n",
        "    <td>Pullover</td> \n",
        "  </tr>\n",
        "    <tr>\n",
        "    <td>3</td>\n",
        "    <td>Dress</td> \n",
        "  </tr>\n",
        "    <tr>\n",
        "    <td>4</td>\n",
        "    <td>Coat</td> \n",
        "  </tr>\n",
        "    <tr>\n",
        "    <td>5</td>\n",
        "    <td>Sandal</td> \n",
        "  </tr>\n",
        "    <tr>\n",
        "    <td>6</td>\n",
        "    <td>Shirt</td> \n",
        "  </tr>\n",
        "    <tr>\n",
        "    <td>7</td>\n",
        "    <td>Sneaker</td> \n",
        "  </tr>\n",
        "    <tr>\n",
        "    <td>8</td>\n",
        "    <td>Bag</td> \n",
        "  </tr>\n",
        "    <tr>\n",
        "    <td>9</td>\n",
        "    <td>Ankle boot</td> \n",
        "  </tr>\n",
        "</table>\n",
        "\n",
        "\n",
        "それぞれの画像は、それぞれひとつの対応するラベルを持ちます。ラベルは数字としてデータセットに持たれていますが、その数字に対応する *クラス名* はデータセットに含まれていません。後で結果表示などに使うので、 `class_names` という変数に保存してとっておきましょう。 \n"
      ]
    },
    {
      "cell_type": "code",
      "metadata": {
        "colab_type": "code",
        "id": "L3PIn_0uNBtg",
        "colab": {}
      },
      "source": [
        "class_names = ['T-shirt/top', 'Trouser', 'Pullover', 'Dress', 'Coat', \n",
        "               'Sandal', 'Shirt', 'Sneaker', 'Bag', 'Ankle boot']"
      ],
      "execution_count": 0,
      "outputs": []
    },
    {
      "cell_type": "markdown",
      "metadata": {
        "colab_type": "text",
        "id": "MjECRWr6NBtm"
      },
      "source": [
        "\n",
        "### 2. データセットの中身を見てみる\n",
        "\n",
        "モデルを学習する前にデータセットのフォーマットを調べてみましょう。次のセルを実行すると、`train_images` のデータの形＝次元がわかります。トレーニングセットに6万枚の画像があり、各画像は28 x 28ピクセルで表されることが伺えます。"
      ]
    },
    {
      "cell_type": "code",
      "metadata": {
        "colab_type": "code",
        "id": "zU8CM7DrNBto",
        "outputId": "ae7fc843-90d7-47b8-97ef-afceb4a56f63",
        "colab": {
          "base_uri": "https://localhost:8080/",
          "height": 34
        }
      },
      "source": [
        "train_images.shape"
      ],
      "execution_count": 4,
      "outputs": [
        {
          "output_type": "execute_result",
          "data": {
            "text/plain": [
              "(60000, 28, 28)"
            ]
          },
          "metadata": {
            "tags": []
          },
          "execution_count": 4
        }
      ]
    },
    {
      "cell_type": "markdown",
      "metadata": {
        "colab_type": "text",
        "id": "oLh9nw26NBtt"
      },
      "source": [
        "\n",
        "同様に、トレーニングセットには(画像の数に対応した)6万の画像ラベルがあります。 \n"
      ]
    },
    {
      "cell_type": "code",
      "metadata": {
        "colab_type": "code",
        "id": "odQptm8ANBtw",
        "outputId": "c510aa15-cf74-4871-8734-0ac3c010f97b",
        "colab": {
          "base_uri": "https://localhost:8080/",
          "height": 34
        }
      },
      "source": [
        "len(train_labels)"
      ],
      "execution_count": 0,
      "outputs": [
        {
          "output_type": "execute_result",
          "data": {
            "text/plain": [
              "60000"
            ]
          },
          "metadata": {
            "tags": []
          },
          "execution_count": 5
        }
      ]
    },
    {
      "cell_type": "markdown",
      "metadata": {
        "colab_type": "text",
        "id": "g0d-_QZzNBt1"
      },
      "source": [
        "\n",
        "各ラベルは0から9までの整数です。 \n"
      ]
    },
    {
      "cell_type": "code",
      "metadata": {
        "colab_type": "code",
        "id": "9D0PJOynNBt3",
        "outputId": "f8b720f4-ead0-41c6-ba05-345843e47f1d",
        "colab": {
          "base_uri": "https://localhost:8080/",
          "height": 34
        }
      },
      "source": [
        "train_labels"
      ],
      "execution_count": 0,
      "outputs": [
        {
          "output_type": "execute_result",
          "data": {
            "text/plain": [
              "array([9, 0, 0, ..., 3, 0, 5], dtype=uint8)"
            ]
          },
          "metadata": {
            "tags": []
          },
          "execution_count": 6
        }
      ]
    },
    {
      "cell_type": "markdown",
      "metadata": {
        "colab_type": "text",
        "id": "4D6EFLIxNBt9"
      },
      "source": [
        "\n",
        "テストセットには1万枚の画像があります。繰り返しますが、各画像は28 x 28ピクセルとして表されます。 \n"
      ]
    },
    {
      "cell_type": "code",
      "metadata": {
        "colab_type": "code",
        "id": "Z4p69QZmNBt_",
        "outputId": "dde6334c-83cc-4963-d9a0-b81c3b0297af",
        "colab": {
          "base_uri": "https://localhost:8080/",
          "height": 34
        }
      },
      "source": [
        "test_images.shape"
      ],
      "execution_count": 0,
      "outputs": [
        {
          "output_type": "execute_result",
          "data": {
            "text/plain": [
              "(10000, 28, 28)"
            ]
          },
          "metadata": {
            "tags": []
          },
          "execution_count": 7
        }
      ]
    },
    {
      "cell_type": "markdown",
      "metadata": {
        "colab_type": "text",
        "id": "uz8oh60RNBuG"
      },
      "source": [
        "\n",
        "テストセットには(画像の数に対応した)1万の画像ラベルがあります。 \n"
      ]
    },
    {
      "cell_type": "code",
      "metadata": {
        "colab_type": "code",
        "id": "dJyzXF-aNBuI",
        "outputId": "d3de2cff-9a1d-47d1-8fa2-174637ba2b25",
        "colab": {
          "base_uri": "https://localhost:8080/",
          "height": 34
        }
      },
      "source": [
        "len(test_labels)"
      ],
      "execution_count": 0,
      "outputs": [
        {
          "output_type": "execute_result",
          "data": {
            "text/plain": [
              "10000"
            ]
          },
          "metadata": {
            "tags": []
          },
          "execution_count": 8
        }
      ]
    },
    {
      "cell_type": "markdown",
      "metadata": {
        "colab_type": "text",
        "id": "To_rdEJtNBuO"
      },
      "source": [
        "\n",
        "## C. データセットを前処理する\n",
        "\n",
        "ネットワークを学習する前に、画像に前処理を施します。学習データセットの最初の画像を見てみると、ピクセルが0から255の範囲の数字を取るとわかります。\n"
      ]
    },
    {
      "cell_type": "code",
      "metadata": {
        "colab_type": "code",
        "id": "g-sF8O7cNBuR",
        "outputId": "e2df8add-6f8c-4f8f-8725-70471a4bc453",
        "colab": {
          "base_uri": "https://localhost:8080/",
          "height": 269
        }
      },
      "source": [
        "plt.figure()\n",
        "plt.imshow(train_images[100])\n",
        "plt.colorbar()\n",
        "plt.grid(False)\n",
        "plt.show()"
      ],
      "execution_count": 0,
      "outputs": [
        {
          "output_type": "display_data",
          "data": {
            "image/png": "[encoded data removed]",
            "text/plain": [
              "<Figure size 432x288 with 2 Axes>"
            ]
          },
          "metadata": {
            "tags": []
          }
        }
      ]
    },
    {
      "cell_type": "markdown",
      "metadata": {
        "colab_type": "text",
        "id": "crcezxbiNBuZ"
      },
      "source": [
        "ニューラルネットワークのモデルに入力する前に、これらの値を0から1の範囲におさまるようスケーリングします。そのため、値を255で割ります。 *学習データセット*と*テストデータセット*に、同じ方法で前処理を施すことが大事です。"
      ]
    },
    {
      "cell_type": "code",
      "metadata": {
        "colab_type": "code",
        "id": "aeLY0pqJNBub",
        "colab": {}
      },
      "source": [
        "train_images = train_images / 255.0\n",
        "\n",
        "test_images = test_images / 255.0"
      ],
      "execution_count": 0,
      "outputs": []
    },
    {
      "cell_type": "markdown",
      "metadata": {
        "colab_type": "text",
        "id": "P1Umxy7sNBuh"
      },
      "source": [
        "\n",
        " *学習データセット*の最初の25枚の画像を、その種別(クラス)名と共に表示してみましょう。データが正しい形式であることを確認してください。これでネットワークの構築と、学習の準備が整いました。 \n"
      ]
    },
    {
      "cell_type": "code",
      "metadata": {
        "colab_type": "code",
        "id": "A0AwBGvSNBuj",
        "outputId": "be52da05-d5c2-486c-b55f-04ef1ff4b8b1",
        "colab": {
          "base_uri": "https://localhost:8080/",
          "height": 592
        }
      },
      "source": [
        "plt.figure(figsize=(10,10))\n",
        "for i in range(25):\n",
        "    plt.subplot(5,5,i+1)\n",
        "    plt.xticks([])\n",
        "    plt.yticks([])\n",
        "    plt.grid(False)\n",
        "    plt.imshow(train_images[i], cmap=plt.cm.binary)\n",
        "    plt.xlabel(class_names[train_labels[i]])\n",
        "plt.show()"
      ],
      "execution_count": 6,
      "outputs": [
        {
          "output_type": "display_data",
          "data": {
            "image/png": "[encoded data removed]",
            "text/plain": [
              "<Figure size 720x720 with 25 Axes>"
            ]
          },
          "metadata": {
            "tags": []
          }
        }
      ]
    },
    {
      "cell_type": "markdown",
      "metadata": {
        "colab_type": "text",
        "id": "iJY8ykoCNBuq"
      },
      "source": [
        "\n",
        "## D. モデルを作成する\n",
        "\n",
        "ニューラルネットワークを構築するには、モデルのレイヤを設定し、コンパイルする必要があります。 \n"
      ]
    },
    {
      "cell_type": "markdown",
      "metadata": {
        "colab_type": "text",
        "id": "7Qwuqc9UNBuu"
      },
      "source": [
        "\n",
        "### 1. モデルの各層を決める\n",
        "\n",
        "ニューラルネットワークの基本的な構成要素は*レイヤ*です。レイヤは、そこに入力されたデータから、表現を抽出します。そして、うまくいけば、これらの表現は当面の問題にとってより意味があります。 \n",
        "\n",
        "ディープラーニングの大部分は、単純なレイヤを順番につなげていくことで構成されます。 `tf.keras.layers.Dense`などのほとんどのレイヤには、学習中に最適な値に調整されていくパラメータがあります。 \n"
      ]
    },
    {
      "cell_type": "code",
      "metadata": {
        "colab_type": "code",
        "id": "tSxx38lENBuv",
        "outputId": "f68f957b-8842-42e7-ffeb-c90b4e14cacb",
        "colab": {
          "base_uri": "https://localhost:8080/",
          "height": 107
        }
      },
      "source": [
        "model = keras.Sequential([\n",
        "    keras.layers.Flatten(input_shape=(28, 28)),\n",
        "    keras.layers.Dense(128, activation=tf.nn.relu),\n",
        "    keras.layers.Dense(10, activation=tf.nn.softmax)\n",
        "])"
      ],
      "execution_count": 0,
      "outputs": [
        {
          "output_type": "stream",
          "text": [
            "WARNING: Logging before flag parsing goes to stderr.\n",
            "W0815 07:43:41.411367 140012558731136 deprecation.py:506] From /usr/local/lib/python3.6/dist-packages/tensorflow/python/ops/init_ops.py:1251: calling VarianceScaling.__init__ (from tensorflow.python.ops.init_ops) with dtype is deprecated and will be removed in a future version.\n",
            "Instructions for updating:\n",
            "Call initializer instance with the dtype argument instead of passing it to the constructor\n"
          ],
          "name": "stderr"
        }
      ]
    },
    {
      "cell_type": "code",
      "metadata": {
        "id": "ANFSFsV-qnxN",
        "colab_type": "code",
        "colab": {}
      },
      "source": [
        "model = keras.Sequential([\n",
        "    keras.layers.Conv2D(32, kernel_size=(3, 3), activation=tf.nn.relu, input_shape=(28, 28,1)),\n",
        "    keras.layers.Conv2D(64, (3, 3), activation=tf.nn.relu),\n",
        "    keras.layers.MaxPooling2D(pool_size=(2, 2)),\n",
        "    keras.layers.Dropout(0.25),\n",
        "    keras.layers.Flatten(),\n",
        "    keras.layers.Dense(128, activation=tf.nn.relu),\n",
        "    keras.layers.Dropout(0.5),\n",
        "    keras.layers.Dense(10, activation=tf.nn.softmax)\n",
        "])"
      ],
      "execution_count": 0,
      "outputs": []
    },
    {
      "cell_type": "markdown",
      "metadata": {
        "id": "G1ntmQToM5K5",
        "colab_type": "text"
      },
      "source": [
        "### 2. モデルをコンパイルする\n",
        "\n",
        "モデルのトレーニングの準備が整う前に、もう少し設定が必要です。これらの設定は、モデルの*コンパイル*段階で追加*します。 \n",
        "-  *損失関数* - これは、モデルがトレーニング中にどれだけ正確であるかを測定します。この関数を最小限に抑えるよう、モデルを正しい方向に「操作」していきます。\n",
        "-  *オプティマイザ* - これは、表示されるデータとその損失関数に基づいてモデルを更新する方法です。\n",
        "-  *メトリックは、*トレーニングとテストの手順を監視するのに使用しました。次の例では、 *精度* 、つまり正しく分類された画像の割合を使用し*ます* 。\n"
      ]
    },
    {
      "cell_type": "markdown",
      "metadata": {
        "colab_type": "text",
        "id": "ntg_19XMNBu1"
      },
      "source": [
        "\n",
        "このネットワークの最初のレイヤである`tf.keras.layers.Flatten`は、画像のフォーマットを（28 x 28ピクセルの）2次元配列から28 * 28 = 784ピクセルの1次元配列に変換します。このレイヤを、画像内のピクセル列を積み重ねずに並べたものと考えてください。この層には学習できるパラメータ（重み）はありません。データの形を変換する役割だけを持ちます。 \n",
        "\n",
        "ピクセルが平坦化(Flatten)された後、ネットワークは2つの`tf.keras.layers.Dense`レイヤを続けて接続します。これらは全結合層です。最初の`Dense`層には128個のノード（またはニューロン）があります。 2番目（最後）の層は10ノードの*ソフトマックス*層です。この層は、合計1になるように、10個の確率スコアの配列を返します。各ノードには、現在の画像が10個のクラスの1つに属する確率（確信度）を表すスコアが含まれます。 \n"
      ]
    },
    {
      "cell_type": "code",
      "metadata": {
        "colab_type": "code",
        "id": "dFOq11p6NBu3",
        "colab": {}
      },
      "source": [
        "model.compile(optimizer='adam', \n",
        "              loss='sparse_categorical_crossentropy',\n",
        "              metrics=['accuracy'])"
      ],
      "execution_count": 0,
      "outputs": []
    },
    {
      "cell_type": "markdown",
      "metadata": {
        "colab_type": "text",
        "id": "E8QZApQXNBvF"
      },
      "source": [
        "\n",
        "## E. モデルを学習させる\n",
        "\n",
        "ニューラルネットワークモデルの学習には、次の手順が必要です。 \n",
        "\n",
        "1. 学習データをモデルに入力します。（この例では`train_images`および`train_labels`配列）\n",
        "1. モデルは、画像とラベルの関連付けを学習します。 \n",
        "1. モデルに、テストセット（この例では`test_images`配列）のラベルを予測させます。予測が`test_labels`配列のラベルと一致するか確認します。 \n",
        "\n",
        "学習開始するには、 `model.fit`メソッドを呼び出します。モデルが学習データとそのラベルの関連付けを学ぶことを、「フィット(fit)」と表現します。 \n"
      ]
    },
    {
      "cell_type": "code",
      "metadata": {
        "id": "ZedUgBK0vdqK",
        "colab_type": "code",
        "colab": {}
      },
      "source": [
        "train_images = train_images.reshape(train_images.shape[0], 28, 28, 1)\n",
        "test_images = test_images.reshape(test_images.shape[0], 28, 28, 1)"
      ],
      "execution_count": 0,
      "outputs": []
    },
    {
      "cell_type": "code",
      "metadata": {
        "id": "UiSv2tYtM5LA",
        "colab_type": "code",
        "outputId": "d13aead3-3067-411d-942c-99e76e8d6511",
        "colab": {
          "base_uri": "https://localhost:8080/",
          "height": 384
        }
      },
      "source": [
        "model.fit(train_images, train_labels, epochs=10)"
      ],
      "execution_count": 14,
      "outputs": [
        {
          "output_type": "stream",
          "text": [
            "Epoch 1/10\n",
            "60000/60000 [==============================] - 18s 294us/sample - loss: 0.4618 - acc: 0.8351\n",
            "Epoch 2/10\n",
            "60000/60000 [==============================] - 15s 248us/sample - loss: 0.3091 - acc: 0.8874\n",
            "Epoch 3/10\n",
            "60000/60000 [==============================] - 15s 248us/sample - loss: 0.2671 - acc: 0.9017\n",
            "Epoch 4/10\n",
            "60000/60000 [==============================] - 15s 248us/sample - loss: 0.2336 - acc: 0.9140\n",
            "Epoch 5/10\n",
            "60000/60000 [==============================] - 15s 248us/sample - loss: 0.2144 - acc: 0.9215\n",
            "Epoch 6/10\n",
            "60000/60000 [==============================] - 15s 246us/sample - loss: 0.1953 - acc: 0.9277\n",
            "Epoch 7/10\n",
            "60000/60000 [==============================] - 15s 250us/sample - loss: 0.1814 - acc: 0.9328\n",
            "Epoch 8/10\n",
            "60000/60000 [==============================] - 15s 247us/sample - loss: 0.1695 - acc: 0.9370\n",
            "Epoch 9/10\n",
            "60000/60000 [==============================] - 15s 247us/sample - loss: 0.1583 - acc: 0.9413\n",
            "Epoch 10/10\n",
            "60000/60000 [==============================] - 15s 246us/sample - loss: 0.1485 - acc: 0.9441\n"
          ],
          "name": "stdout"
        },
        {
          "output_type": "execute_result",
          "data": {
            "text/plain": [
              "<tensorflow.python.keras.callbacks.History at 0x7f7d958207b8>"
            ]
          },
          "metadata": {
            "tags": []
          },
          "execution_count": 14
        }
      ]
    },
    {
      "cell_type": "markdown",
      "metadata": {
        "colab_type": "text",
        "id": "IW9agt9UNBvO"
      },
      "source": [
        "\n",
        "モデルの学習中に、損失と精度の数値が表示されます。このモデルは、学習データに対して約0.88（または88％）の精度に達します。 \n"
      ]
    },
    {
      "cell_type": "markdown",
      "metadata": {
        "colab_type": "text",
        "id": "YUh-VsKSNBvU"
      },
      "source": [
        "\n",
        "## F. 学習済みモデルを評価する\n"
      ]
    },
    {
      "cell_type": "markdown",
      "metadata": {
        "id": "qUv-EQKiM5LD",
        "colab_type": "text"
      },
      "source": [
        "### 1. テストデータ全体で評価する\n",
        "\n",
        "次に、モデルがテストデータセットに対してどう動作するかを比較します。 "
      ]
    },
    {
      "cell_type": "code",
      "metadata": {
        "colab_type": "code",
        "id": "hDUxjBfTNBvV",
        "outputId": "1a1545ca-5ccf-46ae-c5f7-736777302981",
        "colab": {
          "base_uri": "https://localhost:8080/",
          "height": 52
        }
      },
      "source": [
        "test_loss, test_acc = model.evaluate(test_images, test_labels)\n",
        "\n",
        "print('Test accuracy:', test_acc)"
      ],
      "execution_count": 15,
      "outputs": [
        {
          "output_type": "stream",
          "text": [
            "10000/10000 [==============================] - 1s 118us/sample - loss: 0.2360 - acc: 0.9251\n",
            "Test accuracy: 0.9251\n"
          ],
          "name": "stdout"
        }
      ]
    },
    {
      "cell_type": "markdown",
      "metadata": {
        "colab_type": "text",
        "id": "08H-3mKYNBve"
      },
      "source": [
        "\n",
        "結果を見ると、テストデータセットでの推論精度は、学習データセットの精度より少し劣っています。この精度のギャップは *過学習* の例です。過学習とは、機械学習モデルの性能が、学習データよりも新しいデータに対して悪くなることです。 \n"
      ]
    },
    {
      "cell_type": "markdown",
      "metadata": {
        "colab_type": "text",
        "id": "I8h40JaJNBvh"
      },
      "source": [
        "\n",
        "### 2. 個別の画像で評価する\n",
        "\n",
        "モデルを訓練したら、それを使って新しい画像での推論を試すことができます。 \n"
      ]
    },
    {
      "cell_type": "code",
      "metadata": {
        "colab_type": "code",
        "id": "C9fzXslUNBvi",
        "colab": {}
      },
      "source": [
        "predictions = model.predict(test_images)"
      ],
      "execution_count": 0,
      "outputs": []
    },
    {
      "cell_type": "markdown",
      "metadata": {
        "colab_type": "text",
        "id": "xiGowoFnNBvn"
      },
      "source": [
        "\n",
        "ここでは、モデルがテストデータセットの各画像のラベルを予測しています。最初の予測を見てみましょう。 \n"
      ]
    },
    {
      "cell_type": "code",
      "metadata": {
        "colab_type": "code",
        "id": "B16XnVixNBvo",
        "outputId": "dc191b63-6e7a-4083-e553-c9e43f8586a9",
        "colab": {
          "base_uri": "https://localhost:8080/",
          "height": 69
        }
      },
      "source": [
        "predictions[0]"
      ],
      "execution_count": 17,
      "outputs": [
        {
          "output_type": "execute_result",
          "data": {
            "text/plain": [
              "array([2.0120253e-16, 6.8674825e-19, 1.0403040e-14, 6.4744647e-16,\n",
              "       1.7078104e-14, 1.9282242e-10, 2.8016257e-17, 6.3406823e-08,\n",
              "       7.1106222e-15, 9.9999988e-01], dtype=float32)"
            ]
          },
          "metadata": {
            "tags": []
          },
          "execution_count": 17
        }
      ]
    },
    {
      "cell_type": "markdown",
      "metadata": {
        "colab_type": "text",
        "id": "Xy5Ieo99NBvt"
      },
      "source": [
        "\n",
        "予測は10個の数字の配列です。これらは、10種類の衣料品のそれぞれのラベルに対応する、モデルの「確信度(confidence)」つまり、それぞれのラベルであると自信を持って分類できる度合いを表します。どのラベルが最も高い確信度を持つのかを見てみましょう。 \n"
      ]
    },
    {
      "cell_type": "code",
      "metadata": {
        "colab_type": "code",
        "id": "XrfI4aLiNBvu",
        "outputId": "e1add998-b704-4d49-da2f-f950c0a1f36c",
        "colab": {
          "base_uri": "https://localhost:8080/",
          "height": 34
        }
      },
      "source": [
        "np.argmax(predictions[0])"
      ],
      "execution_count": 18,
      "outputs": [
        {
          "output_type": "execute_result",
          "data": {
            "text/plain": [
              "9"
            ]
          },
          "metadata": {
            "tags": []
          },
          "execution_count": 18
        }
      ]
    },
    {
      "cell_type": "markdown",
      "metadata": {
        "colab_type": "text",
        "id": "79Mqi_y2NBvz"
      },
      "source": [
        "\n",
        "ここでは、モデルはこの画像がアンクルブーツ、つまり`class_names[9]`だと判定しています。テスト画像のラベルをチェックして、これが正しいか確認してみましょう。\n"
      ]
    },
    {
      "cell_type": "code",
      "metadata": {
        "colab_type": "code",
        "id": "eeSI6nEUNBv2",
        "outputId": "b3b21185-68f4-47b9-b479-9beb0037c788",
        "colab": {
          "base_uri": "https://localhost:8080/",
          "height": 34
        }
      },
      "source": [
        "test_labels[0]"
      ],
      "execution_count": 19,
      "outputs": [
        {
          "output_type": "execute_result",
          "data": {
            "text/plain": [
              "9"
            ]
          },
          "metadata": {
            "tags": []
          },
          "execution_count": 19
        }
      ]
    },
    {
      "cell_type": "markdown",
      "metadata": {
        "colab_type": "text",
        "id": "HC9oG-l8NBv7"
      },
      "source": [
        "\n",
        "これをグラフ化し、10チャンネルのフルセットを見られます。\n"
      ]
    },
    {
      "cell_type": "code",
      "metadata": {
        "colab_type": "code",
        "id": "4TdC-9dKNBv8",
        "colab": {}
      },
      "source": [
        "def plot_image(i, predictions_array, true_label, img):\n",
        "  predictions_array, true_label, img = predictions_array[i], true_label[i], img[i]\n",
        "  plt.grid(False)\n",
        "  plt.xticks([])\n",
        "  plt.yticks([])\n",
        "  \n",
        "  plt.imshow(img, cmap=plt.cm.binary)\n",
        "\n",
        "  predicted_label = np.argmax(predictions_array)\n",
        "  if predicted_label == true_label:\n",
        "    color = 'blue'\n",
        "  else:\n",
        "    color = 'red'\n",
        "  \n",
        "  plt.xlabel(\"{} {:2.0f}% ({})\".format(class_names[predicted_label],\n",
        "                                100*np.max(predictions_array),\n",
        "                                class_names[true_label]),\n",
        "                                color=color)\n",
        "\n",
        "def plot_value_array(i, predictions_array, true_label):\n",
        "  predictions_array, true_label = predictions_array[i], true_label[i]\n",
        "  plt.grid(False)\n",
        "  plt.xticks([])\n",
        "  plt.yticks([])\n",
        "  thisplot = plt.bar(range(10), predictions_array, color=\"#777777\")\n",
        "  plt.ylim([0, 1]) \n",
        "  predicted_label = np.argmax(predictions_array)\n",
        " \n",
        "  thisplot[predicted_label].set_color('red')\n",
        "  thisplot[true_label].set_color('blue')"
      ],
      "execution_count": 0,
      "outputs": []
    },
    {
      "cell_type": "markdown",
      "metadata": {
        "colab_type": "text",
        "id": "Jq3jtxuKNBwD"
      },
      "source": [
        "\n",
        " 0番目の画像、予測、および予測配列を見てみましょう。 \n"
      ]
    },
    {
      "cell_type": "code",
      "metadata": {
        "colab_type": "code",
        "id": "UBvYAjtQNBwF",
        "outputId": "ab5a90f1-d2f5-4f6e-c2e5-0aa387b201a3",
        "colab": {
          "base_uri": "https://localhost:8080/",
          "height": 206
        }
      },
      "source": [
        "test_images_x = test_images.reshape(test_images.shape[0], 28, 28)\n",
        "\n",
        "i = 0\n",
        "plt.figure(figsize=(6,3))\n",
        "plt.subplot(1,2,1)\n",
        "plot_image(i, predictions, test_labels, test_images_x)\n",
        "plt.subplot(1,2,2)\n",
        "plot_value_array(i, predictions,  test_labels)\n",
        "plt.show()"
      ],
      "execution_count": 22,
      "outputs": [
        {
          "output_type": "display_data",
          "data": {
            "image/png": "[encoded data removed]",
            "text/plain": [
              "<Figure size 432x216 with 2 Axes>"
            ]
          },
          "metadata": {
            "tags": []
          }
        }
      ]
    },
    {
      "cell_type": "code",
      "metadata": {
        "colab_type": "code",
        "id": "JFZ2IMwPNBwI",
        "outputId": "a26fbcdc-b2a5-4c1c-93f1-bd573e510bca",
        "colab": {
          "base_uri": "https://localhost:8080/",
          "height": 206
        }
      },
      "source": [
        "i = 12\n",
        "plt.figure(figsize=(6,3))\n",
        "plt.subplot(1,2,1)\n",
        "plot_image(i, predictions, test_labels, test_images_x)\n",
        "plt.subplot(1,2,2)\n",
        "plot_value_array(i, predictions,  test_labels)\n",
        "plt.show()"
      ],
      "execution_count": 23,
      "outputs": [
        {
          "output_type": "display_data",
          "data": {
            "image/png": "[encoded data removed]",
            "text/plain": [
              "<Figure size 432x216 with 2 Axes>"
            ]
          },
          "metadata": {
            "tags": []
          }
        }
      ]
    },
    {
      "cell_type": "markdown",
      "metadata": {
        "colab_type": "text",
        "id": "too-4ZImNBwO"
      },
      "source": [
        "\n",
        "いくつかの画像をそれらの予測とともに表示してみましょう。正しい予測ラベルは青で、正しくない予測ラベルは赤です。数値は、予測ラベルの割合をパーセントで（最大100）表します。モデルの確信度が高くても、間違っているケースがありますね。\n"
      ]
    },
    {
      "cell_type": "code",
      "metadata": {
        "colab_type": "code",
        "id": "pN-2vMcbNBwQ",
        "outputId": "54c4cbba-7535-416b-8bb8-67179dd62c18",
        "colab": {
          "base_uri": "https://localhost:8080/",
          "height": 592
        }
      },
      "source": [
        "# Plot the first X test images, their predicted label, and the true label\n",
        "# Color correct predictions in blue, incorrect predictions in red\n",
        "num_rows = 5\n",
        "num_cols = 3\n",
        "num_images = num_rows*num_cols\n",
        "plt.figure(figsize=(2*2*num_cols, 2*num_rows))\n",
        "for i in range(num_images):\n",
        "  plt.subplot(num_rows, 2*num_cols, 2*i+1)\n",
        "  plot_image(i, predictions, test_labels, test_images_x)\n",
        "  plt.subplot(num_rows, 2*num_cols, 2*i+2)\n",
        "  plot_value_array(i, predictions, test_labels)\n",
        "plt.show()"
      ],
      "execution_count": 24,
      "outputs": [
        {
          "output_type": "display_data",
          "data": {
            "image/png": "[encoded data removed]",
            "text/plain": [
              "<Figure size 864x720 with 30 Axes>"
            ]
          },
          "metadata": {
            "tags": []
          }
        }
      ]
    },
    {
      "cell_type": "markdown",
      "metadata": {
        "colab_type": "text",
        "id": "_OlAui2iNBwW"
      },
      "source": [
        "\n",
        "最後に、学習済みモデルを使い、ひとつの画像で推論します。 \n"
      ]
    },
    {
      "cell_type": "code",
      "metadata": {
        "colab_type": "code",
        "id": "2GkiJ7O8NBwY",
        "outputId": "db7e9ce9-b2e1-4fde-83fb-bfbf7ace43a7",
        "colab": {
          "base_uri": "https://localhost:8080/",
          "height": 34
        }
      },
      "source": [
        "# Grab an image from the test dataset\n",
        "img = test_images[0]\n",
        "\n",
        "print(img.shape)"
      ],
      "execution_count": 0,
      "outputs": [
        {
          "output_type": "stream",
          "text": [
            "(28, 28)\n"
          ],
          "name": "stdout"
        }
      ]
    },
    {
      "cell_type": "markdown",
      "metadata": {
        "colab_type": "text",
        "id": "M-5CGQi6NBwe"
      },
      "source": [
        "\n",
        " `tf.keras`モデルは、一度に複数の入力を含む *バッチ* （集合）に対して推論を行うよう最適化されています。そのため、単一の画像で推論する場合でも、リストに画像を一つ追加し、それを入力として与える必要があります。 \n"
      ]
    },
    {
      "cell_type": "code",
      "metadata": {
        "colab_type": "code",
        "id": "HsU1GYelNBwf",
        "outputId": "19b51dfa-3f9d-4062-cd4a-b7bc3a1ced62",
        "colab": {
          "base_uri": "https://localhost:8080/",
          "height": 34
        }
      },
      "source": [
        "# Add the image to a batch where it's the only member.\n",
        "img = (np.expand_dims(img,0))\n",
        "\n",
        "print(img.shape)"
      ],
      "execution_count": 0,
      "outputs": [
        {
          "output_type": "stream",
          "text": [
            "(1, 28, 28)\n"
          ],
          "name": "stdout"
        }
      ]
    },
    {
      "cell_type": "markdown",
      "metadata": {
        "colab_type": "text",
        "id": "dkIzPSTwNBwk"
      },
      "source": [
        "\n",
        "今度は画像を使い推論します。 \n"
      ]
    },
    {
      "cell_type": "code",
      "metadata": {
        "colab_type": "code",
        "id": "f3poELpzNBwl",
        "outputId": "3030c5f5-aabb-490c-943b-dbf0e4a85a96",
        "colab": {
          "base_uri": "https://localhost:8080/",
          "height": 52
        }
      },
      "source": [
        "predictions_single = model.predict(img)\n",
        "\n",
        "print(predictions_single)"
      ],
      "execution_count": 0,
      "outputs": [
        {
          "output_type": "stream",
          "text": [
            "[[2.1596768e-06 7.0150348e-09 8.6171860e-07 7.7289496e-07 2.2113095e-06\n",
            "  6.5428498e-03 6.9230744e-05 3.2286901e-02 3.0360929e-05 9.6106470e-01]]\n"
          ],
          "name": "stdout"
        }
      ]
    },
    {
      "cell_type": "code",
      "metadata": {
        "colab_type": "code",
        "id": "T7AM64ycNBwp",
        "outputId": "0317d3e7-d6f4-42f6-a65e-cec78dadcb0e",
        "colab": {
          "base_uri": "https://localhost:8080/",
          "height": 304
        }
      },
      "source": [
        "plot_value_array(0, predictions_single, test_labels)\n",
        "plt.xticks(range(10), class_names, rotation=45)\n",
        "plt.show()"
      ],
      "execution_count": 0,
      "outputs": [
        {
          "output_type": "display_data",
          "data": {
            "image/png": "[encoded data removed]",
            "text/plain": [
              "<Figure size 432x288 with 1 Axes>"
            ]
          },
          "metadata": {
            "tags": []
          }
        }
      ]
    },
    {
      "cell_type": "markdown",
      "metadata": {
        "colab_type": "text",
        "id": "rUmKsSTaNBwt"
      },
      "source": [
        "\n",
        " `model.predict`は、データのバッチ内の各画像に対して1つずつ、10個のラベルそれぞれの確信度のリストの、画像の数分のリストを返します。バッチ内の、画像の予測をひとつ取り出してみましょう。"
      ]
    },
    {
      "cell_type": "code",
      "metadata": {
        "colab_type": "code",
        "id": "zUq1pJ4fNBwu",
        "outputId": "f2c969be-8dfa-49aa-b3bc-7291107fcadd",
        "colab": {
          "base_uri": "https://localhost:8080/",
          "height": 34
        }
      },
      "source": [
        "prediction_result = np.argmax(predictions_single[0])\n",
        "print(prediction_result)"
      ],
      "execution_count": 0,
      "outputs": [
        {
          "output_type": "stream",
          "text": [
            "9\n"
          ],
          "name": "stdout"
        }
      ]
    },
    {
      "cell_type": "markdown",
      "metadata": {
        "colab_type": "text",
        "id": "h-n2r6qxNBwy"
      },
      "source": [
        "\n",
        "そして、以前と同様、モデルは9のラベル（アンクルブーツ）を予測します。 \n"
      ]
    },
    {
      "cell_type": "code",
      "metadata": {
        "id": "zolJxaBgM5Lr",
        "colab_type": "code",
        "colab": {}
      },
      "source": [
        ""
      ],
      "execution_count": 0,
      "outputs": []
    }
  ]
}