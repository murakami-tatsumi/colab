{
  "nbformat": 4,
  "nbformat_minor": 0,
  "metadata": {
    "colab": {
      "name": "mnist_keras_cnn_oneshot",
      "version": "0.3.2",
      "provenance": [],
      "collapsed_sections": [
        "2tJ3BuFeievF",
        "rTbAN9Gdh8Vo"
      ],
      "include_colab_link": true
    },
    "kernelspec": {
      "name": "python3",
      "display_name": "Python 3"
    },
    "accelerator": "GPU"
  },
  "cells": [
    {
      "cell_type": "markdown",
      "metadata": {
        "id": "view-in-github",
        "colab_type": "text"
      },
      "source": [
        "<a href=\"https://colab.research.google.com/github/murakami-tatsumi/colab/blob/master/mnist_keras_cnn_oneshot.ipynb\" target=\"_parent\"><img src=\"https://colab.research.google.com/assets/colab-badge.svg\" alt=\"Open In Colab\"/></a>"
      ]
    },
    {
      "cell_type": "markdown",
      "metadata": {
        "id": "_c71PRUaraQm",
        "colab_type": "text"
      },
      "source": [
        "# MNISTをtensorflow+kerasで学習し、画面からの手書き入力を認識させるアプリを作る"
      ]
    },
    {
      "cell_type": "markdown",
      "metadata": {
        "id": "7k5TN8q4f6KE",
        "colab_type": "text"
      },
      "source": [
        "最初に下の \n",
        "\n",
        "\n",
        "```\n",
        "!ls\n",
        "```\n",
        "を実行して、\n",
        "```\n",
        "keras_mnist_cnn_oneshot.py  ngrok-stable-linux-amd64.zip  templates\n",
        "model\t\t\t    __pycache__\n",
        "ngrok\t\t\t    sample_data\n",
        "```\n",
        "が出てきたら実行環境は残っている。\n",
        "```\n",
        "sample_data\n",
        "```\n",
        "だけだったら、\n",
        "\n",
        "1.  ngrokの初期設定\n",
        "2.  index.htmlの書き出し\n",
        "3.  呼び出しモジュール keras_mnist_cnn_oneshot.pyの書き出し\n",
        "4.  学習及び結果モデルの保存\n",
        "\n",
        "を事前に実行して実行環境を構築する。\n",
        "\n"
      ]
    },
    {
      "cell_type": "code",
      "metadata": {
        "id": "73IgP0rhfSAg",
        "colab_type": "code",
        "outputId": "88bbca1d-a58d-471d-f33e-06a38c36a8cf",
        "colab": {
          "base_uri": "https://localhost:8080/",
          "height": 157
        }
      },
      "source": [
        "!ls -l"
      ],
      "execution_count": 1,
      "outputs": [
        {
          "output_type": "stream",
          "text": [
            "total 38796\n",
            "-rw-r--r-- 1 root root     1139 Aug 16 07:09 keras_mnist_cnn_oneshot.py\n",
            "drwxr-xr-x 2 root root     4096 Aug 16 04:21 model\n",
            "-rwxr-xr-x 1 root root 26092507 Jul 20 01:16 ngrok\n",
            "-rw-r--r-- 1 root root 13607069 Aug 16 04:19 ngrok-stable-linux-amd64.zip\n",
            "drwxr-xr-x 2 root root     4096 Aug 16 05:57 __pycache__\n",
            "drwxr-xr-x 1 root root     4096 Aug  2 16:06 sample_data\n",
            "drwxr-xr-x 2 root root     4096 Aug 16 04:19 templates\n"
          ],
          "name": "stdout"
        }
      ]
    },
    {
      "cell_type": "markdown",
      "metadata": {
        "id": "2tJ3BuFeievF",
        "colab_type": "text"
      },
      "source": [
        "### 初期設定とモデルの構築"
      ]
    },
    {
      "cell_type": "code",
      "metadata": {
        "id": "jxpzFTyReSn_",
        "colab_type": "code",
        "outputId": "ee02d900-074f-493a-d545-d2edaa6cf232",
        "colab": {
          "base_uri": "https://localhost:8080/",
          "height": 262
        }
      },
      "source": [
        "#\n",
        "# 1. ngrokの初期設定\n",
        "#\n",
        "!wget https://bin.equinox.io/c/4VmDzA7iaHb/ngrok-stable-linux-amd64.zip\n",
        "!unzip ngrok-stable-linux-amd64.zip\n",
        "!./ngrok authtoken 1PMRCbWcgdmypamYcEK36NVWjmS_iL7E7vRd31B7EYLjJEBn"
      ],
      "execution_count": 2,
      "outputs": [
        {
          "output_type": "stream",
          "text": [
            "--2019-08-16 04:19:07--  https://bin.equinox.io/c/4VmDzA7iaHb/ngrok-stable-linux-amd64.zip\n",
            "Resolving bin.equinox.io (bin.equinox.io)... 52.202.60.111, 52.200.123.104, 52.45.248.244, ...\n",
            "Connecting to bin.equinox.io (bin.equinox.io)|52.202.60.111|:443... connected.\n",
            "HTTP request sent, awaiting response... 200 OK\n",
            "Length: 13607069 (13M) [application/octet-stream]\n",
            "Saving to: ‘ngrok-stable-linux-amd64.zip’\n",
            "\n",
            "ngrok-stable-linux- 100%[===================>]  12.98M  15.7MB/s    in 0.8s    \n",
            "\n",
            "2019-08-16 04:19:08 (15.7 MB/s) - ‘ngrok-stable-linux-amd64.zip’ saved [13607069/13607069]\n",
            "\n",
            "Archive:  ngrok-stable-linux-amd64.zip\n",
            "  inflating: ngrok                   \n",
            "Authtoken saved to configuration file: /root/.ngrok2/ngrok.yml\n"
          ],
          "name": "stdout"
        }
      ]
    },
    {
      "cell_type": "code",
      "metadata": {
        "id": "ndl18aclhKwV",
        "colab_type": "code",
        "outputId": "0fe032fc-1183-424c-9e31-be68e27cb5c1",
        "colab": {
          "base_uri": "https://localhost:8080/",
          "height": 34
        }
      },
      "source": [
        "\n",
        "#\n",
        "# 2. index.htmlの書き出し\n",
        "#\n",
        "\n",
        "#Writing to html file on colab\n",
        "import os\n",
        "\n",
        "html = \"\"\"\n",
        "<!DOCTYPE html>\n",
        "<html>\n",
        "<head>\n",
        "  <meta charset=\"UTF-8\">\n",
        "  <title>文字認識</title>\n",
        "</head>\n",
        "<body onload=\"init()\" style=\"text-align:center;\">\n",
        "<h1>数字手書き文字認識</h1>\n",
        "<div>\n",
        "  <!-- ユーザーからの入力を受け付けるCanvas -->\n",
        "  <canvas id=\"main_cv\" width=\"300\" height=\"300\"\n",
        "       style=\"border: solid 1px gray\"></canvas>\n",
        "  <!-- 送信用にリサイズした結果を描画するCanvas -->\n",
        "  <canvas id=\"back_cv\" width=\"28\" height=\"28\"\n",
        "       style=\"border:red solid 1px\"></canvas>\n",
        "</div>\n",
        "<div>\n",
        "  予測:<span id=\"result\" style=\"font-size:5em;\"></span>\n",
        "</div>\n",
        "<div>\n",
        "  <button onclick=\"resetCanvas()\"\n",
        "    style=\"font-size:1.5em;\">\n",
        "    キャンバスのリセット</button>\n",
        "</div>\n",
        "\n",
        "<script type=\"text/javascript\">\n",
        "// API\n",
        "var API_PREDICT = location.href + \"api?\";\n",
        "\n",
        "// 変数など\n",
        "var main_cv, ctx, main_r, back_cv, back_ctx;\n",
        "var isDown, s_pt, border = 20;\n",
        "\n",
        "// 初期化 --- (*1)\n",
        "function init() {\n",
        "  // キャンバスのオブジェクトやコンテキストを取得\n",
        "  main_cv = $(\"#main_cv\");\n",
        "  ctx = main_cv.getContext(\"2d\");\n",
        "  // キャンバスの位置とサイズを取得\n",
        "  main_r = main_cv.getBoundingClientRect();\n",
        "  // リサイズ処理用のイメージ\n",
        "  back_cv = $(\"#back_cv\");\n",
        "  back_ctx = back_cv.getContext(\"2d\");\n",
        "\n",
        "  // マウスイベントの設定 --- (*2)\n",
        "  main_cv.onmousedown = function (e) {\n",
        "    isDown = true;\n",
        "    s_pt = getXY(e);\n",
        "    ctx.beginPath();\n",
        "    ctx.lineWidth = border;\n",
        "    ctx.lineCap = \"round\";\n",
        "    ctx.strokeStyle = \"white\";\n",
        "    ctx.moveTo(s_pt.x, s_pt.y);\n",
        "  };\n",
        "  main_cv.onmousemove = function (e) {\n",
        "    if (!isDown) return;\n",
        "    var pt = getXY(e);\n",
        "    ctx.lineTo(pt.x, pt.y);\n",
        "    ctx.stroke();\n",
        "    s_pt = pt;\n",
        "    ctx.beginPath();\n",
        "    ctx.moveTo(pt.x, pt.y);\n",
        "  };\n",
        "  main_cv.onmouseup = function (e) {\n",
        "    if (!isDown) return;\n",
        "    isDown = false;\n",
        "    ctx.closePath();\n",
        "    recognize();\n",
        "  };\n",
        "  main_cv.onmouseout = main_cv.onmouseup;\n",
        "\n",
        "  // 画面を白くする\n",
        "  resetCanvas();\n",
        "}\n",
        "\n",
        "// マウスの座標を取得 --- (*4)\n",
        "function getXY(e) {\n",
        "  var x = e.clientX;\n",
        "  var y = e.clientY;\n",
        "  x -= main_r.left;\n",
        "  y -= main_r.top;\n",
        "  return {\"x\":x, \"y\":y};\n",
        "}\n",
        "\n",
        "// キャンバスの初期化\n",
        "function resetCanvas() {\n",
        "  ctx.clearRect(0, 0, main_cv.width, main_cv.height);\n",
        "  ctx.fillStyle = 'black';\n",
        "  ctx.fillRect(0, 0, main_cv.width, main_cv.height);\n",
        "  ctx.beginPath();\n",
        "  back_ctx.clearRect(0,0,back_cv.width,back_cv.height);\n",
        "  back_ctx.beginPath();\n",
        "  $(\"#result\").innerHTML = \"\";\n",
        "  x_min = main_cv.width;\n",
        "  x_max = 0;\n",
        "  y_min = main_cv.height;\n",
        "  y_max = 0;\n",
        "}\n",
        "\n",
        "// コピー --- (*5)\n",
        "function copyToBack() {\n",
        "  back_ctx.fillStyle = \"black\";\n",
        "  back_ctx.fillRect(0,0,28,28);\n",
        "  back_ctx.drawImage(main_cv,\n",
        "    0, 0, main_cv.width, main_cv.height,\n",
        "    0, 0, 28, 28);\n",
        "}\n",
        "\n",
        "// パターンを作成する --- (*6)\n",
        "function getPixelData() {\n",
        "  //　画像を28x28にリサイズ\n",
        "  copyToBack();\n",
        "  // 画像イメージを取得 --- (*7)\n",
        "  var img = back_ctx.getImageData(0, 0, 28, 28).data;\n",
        "  var buf = [];\n",
        "  console.log(img);\n",
        "  for (var i = 0; i < 28 * 28; i++) {\n",
        "    var k = i * 4;\n",
        "    var r = img[k + 0]; // red\n",
        "    var g = img[k + 1]; // green\n",
        "    var b = img[k + 2]; // blue\n",
        "    var a = img[k + 3]; // alpha\n",
        "    var v = Math.floor((r + g + b) / 3.0); // ---- (*7a)\n",
        "    buf.push(v);\n",
        "  }\n",
        "  return buf.join(\",\");\n",
        "}\n",
        "\n",
        "// 文字認識処理を実行 --- (*8)\n",
        "function recognize() {\n",
        "  // 手書き文字のピクセルを取得\n",
        "  var txt = getPixelData();\n",
        "  // サーバーへ送信 --- (*9)\n",
        "  var uri = API_PREDICT + \"p=\" + txt;\n",
        "  $ajax(uri, function (xhr, txt) {\n",
        "    $(\"#result\").innerHTML = \"\" + txt;\n",
        "    console.log(\"predict=\" + txt);\n",
        "  });\n",
        "}\n",
        "\n",
        "// DOMを返す\n",
        "function $(q) { return document.querySelector(q); }\n",
        "\n",
        "// Ajax関数\n",
        "function $ajax(url, callback) {\n",
        "  var xhr = new XMLHttpRequest();\n",
        "  xhr.open('GET', url, true);\n",
        "  xhr.onreadystatechange = function() {\n",
        "    if (xhr.readyState == 4) { //通信完了\n",
        "      if (xhr.status == 200) { //HTTPステータス200\n",
        "        callback(xhr, xhr.responseText);\n",
        "      }\n",
        "    }\n",
        "  };\n",
        "  xhr.send(''); // 通信を開始\n",
        "  return xhr;\n",
        "}\n",
        "</script>\n",
        "</body>\n",
        "</html>\n",
        "\n",
        "\"\"\"\n",
        "\n",
        "#Saving html file\n",
        "if not os.path.isdir( \"templates\" ):\n",
        "    os.makedirs( \"templates\" )\n",
        "with open(\"templates/index.html\", mode='w') as f:\n",
        "    f.write(html)\n",
        "print ('完了！')\n"
      ],
      "execution_count": 3,
      "outputs": [
        {
          "output_type": "stream",
          "text": [
            "完了！\n"
          ],
          "name": "stdout"
        }
      ]
    },
    {
      "cell_type": "code",
      "metadata": {
        "id": "rW29wWR6lEpH",
        "colab_type": "code",
        "outputId": "d83203d2-8fa0-4cfe-91b0-4036764435cd",
        "colab": {
          "base_uri": "https://localhost:8080/",
          "height": 34
        }
      },
      "source": [
        "#\n",
        "# 3. 呼び出しモジュール keras_mnist_cnn_oneshot.pyの書き出し\n",
        "#\n",
        "\n",
        "#Writing to python file on colab\n",
        "import os\n",
        "\n",
        "python = \"\"\"\n",
        "# coding: utf-8\n",
        "import sys\n",
        "import numpy as np\n",
        "import tensorflow as tf\n",
        "import keras\n",
        "from keras.models import load_model\n",
        "import matplotlib.pyplot as plt\n",
        "\n",
        "# 保存したmodelのロード\n",
        "model = load_model('model/mnist-cnn.h5')\n",
        "model.summary()\n",
        "print ('oneshot ready')\n",
        "sys.stdout.flush()\n",
        "\n",
        "# kerasのバグ対応（モデルを別スレッドで使用できない）\n",
        "graph = tf.get_default_graph()\n",
        "\n",
        "def oneshot(line):\n",
        "  # kerasのバグ対応（モデルを別スレッドで使用できない）\n",
        "  with graph.as_default():\n",
        "    w = list(map(lambda x: float(int(x)), line.split(',')))\n",
        "    x = np.reshape(w, (1, 28, 28, 1))\n",
        "    x = x.astype('float32')\n",
        "    x /= 255\n",
        "    out = model.predict(x)\n",
        "    ans = np.argmax(out.data)\n",
        "\n",
        "    plt.imshow(np.reshape(w, (28, 28)), cmap =plt.cm.gray_r)\n",
        "    plt.show()\n",
        "    print('予測：',ans)\n",
        "    print('確率：',out[0][ans])    \n",
        "    sys.stdout.flush()\n",
        "    \n",
        "    return ans\n",
        "\n",
        "if __name__ == \"__main__\":\n",
        "  while True:\n",
        "    str = input()\n",
        "    if (str == 'end'):\n",
        "      break\n",
        "    r = oneshot(str)\n",
        "    print (r)\n",
        "    sys.stdout.flush()\n",
        "\n",
        "  # 終了\n",
        "  print ('oneshot end')\n",
        "  sys.stdout.flush()\n",
        "  exit()\n",
        "\n",
        "\"\"\"\n",
        "\n",
        "#Saving python file\n",
        "with open(\"keras_mnist_cnn_oneshot.py\", mode='w') as f:\n",
        "    f.write(python)\n",
        "print ('完了！')    \n"
      ],
      "execution_count": 2,
      "outputs": [
        {
          "output_type": "stream",
          "text": [
            "完了！\n"
          ],
          "name": "stdout"
        }
      ]
    },
    {
      "cell_type": "code",
      "metadata": {
        "id": "5-1ckn_XiqU3",
        "colab_type": "code",
        "outputId": "000211a9-8650-4efa-95a7-7724a85d0a37",
        "colab": {
          "base_uri": "https://localhost:8080/",
          "height": 979
        }
      },
      "source": [
        "#\n",
        "# 4. 学習及び結果モデルの保存\n",
        "#\n",
        "\n",
        "# coding: utf-8\n",
        "import os\n",
        "from __future__ import print_function\n",
        "import tensorflow as tf\n",
        "import keras\n",
        "from keras.datasets import mnist\n",
        "from keras.models import Sequential\n",
        "from keras.layers import Dense, Dropout, Flatten\n",
        "from keras.layers import Conv2D, MaxPooling2D\n",
        "from keras import backend as K\n",
        "\n",
        "batch_size = 128\n",
        "num_classes = 10\n",
        "epochs = 12\n",
        "\n",
        "# input image dimensions\n",
        "img_rows, img_cols = 28, 28\n",
        "\n",
        "# the data, split between train and test sets\n",
        "(x_train, y_train), (x_test, y_test) = mnist.load_data()\n",
        "\n",
        "# 検証用に保存\n",
        "x_test_x = x_test\n",
        "\n",
        "if K.image_data_format() == 'channels_first':\n",
        "    x_train = x_train.reshape(x_train.shape[0], 1, img_rows, img_cols)\n",
        "    x_test = x_test.reshape(x_test.shape[0], 1, img_rows, img_cols)\n",
        "    input_shape = (1, img_rows, img_cols)\n",
        "else:\n",
        "    x_train = x_train.reshape(x_train.shape[0], img_rows, img_cols, 1)\n",
        "    x_test = x_test.reshape(x_test.shape[0], img_rows, img_cols, 1)\n",
        "    input_shape = (img_rows, img_cols, 1)\n",
        "\n",
        "print ('K.image_data_format() = ', K.image_data_format())\n",
        "\n",
        "x_train = x_train.astype('float32')\n",
        "x_test = x_test.astype('float32')\n",
        "x_train /= 255\n",
        "x_test /= 255\n",
        "print('x_train shape:', x_train.shape)\n",
        "print(x_train.shape[0], 'train samples')\n",
        "print(x_test.shape[0], 'test samples')\n",
        "\n",
        "# convert class vectors to binary class matrices\n",
        "y_train = keras.utils.to_categorical(y_train, num_classes)\n",
        "y_test = keras.utils.to_categorical(y_test, num_classes)\n",
        "\n",
        "model = Sequential()\n",
        "model.add(Conv2D(32, kernel_size=(3, 3),\n",
        "                 activation='relu',\n",
        "                 input_shape=input_shape))\n",
        "model.add(Conv2D(64, (3, 3), activation='relu'))\n",
        "model.add(MaxPooling2D(pool_size=(2, 2)))\n",
        "model.add(Dropout(0.25))\n",
        "model.add(Flatten())\n",
        "model.add(Dense(128, activation='relu'))\n",
        "model.add(Dropout(0.5))\n",
        "model.add(Dense(num_classes, activation='softmax'))\n",
        "\n",
        "model.compile(loss=keras.losses.categorical_crossentropy,\n",
        "              optimizer=keras.optimizers.Adadelta(),\n",
        "              metrics=['accuracy'])\n",
        "\n",
        "model.fit(x_train, y_train,\n",
        "          batch_size=batch_size,\n",
        "          epochs=epochs,\n",
        "          verbose=1,\n",
        "          validation_data=(x_test, y_test))\n",
        "score = model.evaluate(x_test, y_test, verbose=0)\n",
        "print('Test loss:', score[0])\n",
        "print('Test accuracy:', score[1])\n",
        "\n",
        "#Saving model file\n",
        "if not os.path.isdir( \"model\" ):\n",
        "    os.makedirs( \"model\" )\n",
        "model.save('model/mnist-cnn.h5')\n",
        "model.summary()\n",
        "print ('完了！')    "
      ],
      "execution_count": 20,
      "outputs": [
        {
          "output_type": "stream",
          "text": [
            "K.image_data_format() =  channels_last\n",
            "x_train shape: (60000, 28, 28, 1)\n",
            "60000 train samples\n",
            "10000 test samples\n",
            "Train on 60000 samples, validate on 10000 samples\n",
            "Epoch 1/12\n",
            "60000/60000 [==============================] - 9s 155us/step - loss: 0.2695 - acc: 0.9172 - val_loss: 0.0676 - val_acc: 0.9780\n",
            "Epoch 2/12\n",
            "60000/60000 [==============================] - 9s 147us/step - loss: 0.0896 - acc: 0.9739 - val_loss: 0.0511 - val_acc: 0.9834\n",
            "Epoch 3/12\n",
            "60000/60000 [==============================] - 9s 147us/step - loss: 0.0660 - acc: 0.9805 - val_loss: 0.0352 - val_acc: 0.9878\n",
            "Epoch 4/12\n",
            "60000/60000 [==============================] - 9s 147us/step - loss: 0.0540 - acc: 0.9839 - val_loss: 0.0308 - val_acc: 0.9890\n",
            "Epoch 5/12\n",
            "60000/60000 [==============================] - 9s 146us/step - loss: 0.0479 - acc: 0.9854 - val_loss: 0.0266 - val_acc: 0.9911\n",
            "Epoch 6/12\n",
            "60000/60000 [==============================] - 9s 147us/step - loss: 0.0396 - acc: 0.9880 - val_loss: 0.0294 - val_acc: 0.9894\n",
            "Epoch 7/12\n",
            "60000/60000 [==============================] - 9s 147us/step - loss: 0.0379 - acc: 0.9882 - val_loss: 0.0254 - val_acc: 0.9911\n",
            "Epoch 8/12\n",
            "60000/60000 [==============================] - 9s 147us/step - loss: 0.0336 - acc: 0.9896 - val_loss: 0.0248 - val_acc: 0.9926\n",
            "Epoch 9/12\n",
            "60000/60000 [==============================] - 9s 147us/step - loss: 0.0306 - acc: 0.9907 - val_loss: 0.0270 - val_acc: 0.9912\n",
            "Epoch 10/12\n",
            "60000/60000 [==============================] - 9s 147us/step - loss: 0.0289 - acc: 0.9909 - val_loss: 0.0266 - val_acc: 0.9910\n",
            "Epoch 11/12\n",
            "60000/60000 [==============================] - 9s 146us/step - loss: 0.0276 - acc: 0.9911 - val_loss: 0.0277 - val_acc: 0.9909\n",
            "Epoch 12/12\n",
            "60000/60000 [==============================] - 9s 147us/step - loss: 0.0263 - acc: 0.9919 - val_loss: 0.0282 - val_acc: 0.9911\n",
            "Test loss: 0.028178846691134823\n",
            "Test accuracy: 0.9911\n",
            "_________________________________________________________________\n",
            "Layer (type)                 Output Shape              Param #   \n",
            "=================================================================\n",
            "conv2d_3 (Conv2D)            (None, 26, 26, 32)        320       \n",
            "_________________________________________________________________\n",
            "conv2d_4 (Conv2D)            (None, 24, 24, 64)        18496     \n",
            "_________________________________________________________________\n",
            "max_pooling2d_2 (MaxPooling2 (None, 12, 12, 64)        0         \n",
            "_________________________________________________________________\n",
            "dropout_3 (Dropout)          (None, 12, 12, 64)        0         \n",
            "_________________________________________________________________\n",
            "flatten_2 (Flatten)          (None, 9216)              0         \n",
            "_________________________________________________________________\n",
            "dense_3 (Dense)              (None, 128)               1179776   \n",
            "_________________________________________________________________\n",
            "dropout_4 (Dropout)          (None, 128)               0         \n",
            "_________________________________________________________________\n",
            "dense_4 (Dense)              (None, 10)                1290      \n",
            "=================================================================\n",
            "Total params: 1,199,882\n",
            "Trainable params: 1,199,882\n",
            "Non-trainable params: 0\n",
            "_________________________________________________________________\n",
            "完了！\n"
          ],
          "name": "stdout"
        }
      ]
    },
    {
      "cell_type": "markdown",
      "metadata": {
        "id": "tpuP5ZEziuop",
        "colab_type": "text"
      },
      "source": [
        "### 手書き入力判定処理（oneshot）の起動"
      ]
    },
    {
      "cell_type": "markdown",
      "metadata": {
        "id": "7m6-C-VKjRt8",
        "colab_type": "text"
      },
      "source": [
        "下のセルを起動すると\n",
        "\n",
        "5. ngrokで仮想ドメイン取得\n",
        "6. mnist oneshot処理の起動とwebサーバー立ち上げ\n",
        "\n",
        "処理が開始され、手書き入力の待ち状態になる。<br>\n",
        "5.の仮想ドメイン取得で表示されるURLをコピーして、ブラウザの別タブでURLを開くと手書き入力画面が表示される。<br>\n",
        "黒い入力エリアにドラッグで数字を描いてボタンを離すと認識処理が起動され結果が画面に表示される。"
      ]
    },
    {
      "cell_type": "code",
      "metadata": {
        "id": "1uzDD9NTl1u_",
        "colab_type": "code",
        "outputId": "1fa97a44-fa82-4a4e-8158-4800e0364150",
        "colab": {
          "base_uri": "https://localhost:8080/",
          "height": 1000
        }
      },
      "source": [
        "\n",
        "#\n",
        "# 5. ngrokで仮想ドメイン取得\n",
        "#\n",
        "get_ipython().system_raw('./ngrok http 6006 &')\n",
        "! curl -s http://localhost:4040/api/tunnels | python3 -c \"import sys, json; print(json.load(sys.stdin)['tunnels'][0]['public_url'])\"\n",
        "#! curl -s http://localhost:4040/api/tunnels\n",
        "\n",
        "#\n",
        "# 6. mnist oneshot処理の起動とwebサーバー立ち上げ\n",
        "#\n",
        "\n",
        "# coding: utf-8\n",
        "\n",
        "from flask import Flask,request, render_template\n",
        "import importlib\n",
        "\n",
        "# 子処理の立ち上げ\n",
        "print ('loading mnist_cnn_oneshot...')\n",
        "import keras_mnist_cnn_oneshot as oneshot\n",
        "importlib.reload(oneshot)\n",
        "\n",
        "# webサーバーの立ち上げ\n",
        "print ('redy!')\n",
        "app = Flask(__name__)\n",
        "\n",
        "# 入力ページ\n",
        "@app.route('/')\n",
        "def index():\n",
        "    html = render_template('index.html')\n",
        "    return html\n",
        "\n",
        "# API\n",
        "@app.route('/api')\n",
        "def api():\n",
        "    p = request.args.get('p')\n",
        "    #print ('p = ', p)\n",
        "    res = oneshot.oneshot(p)\n",
        "    print ('res = ', res)\n",
        "    return str(res)\n",
        "\n",
        "if __name__ == '__main__':\n",
        "    app.run(port=6006)"
      ],
      "execution_count": 5,
      "outputs": [
        {
          "output_type": "stream",
          "text": [
            "https://575d2a5a.ngrok.io\n",
            "loading mnist_cnn_oneshot...\n",
            "_________________________________________________________________\n",
            "Layer (type)                 Output Shape              Param #   \n",
            "=================================================================\n",
            "conv2d_3 (Conv2D)            (None, 26, 26, 32)        320       \n",
            "_________________________________________________________________\n",
            "conv2d_4 (Conv2D)            (None, 24, 24, 64)        18496     \n",
            "_________________________________________________________________\n",
            "max_pooling2d_2 (MaxPooling2 (None, 12, 12, 64)        0         \n",
            "_________________________________________________________________\n",
            "dropout_3 (Dropout)          (None, 12, 12, 64)        0         \n",
            "_________________________________________________________________\n",
            "flatten_2 (Flatten)          (None, 9216)              0         \n",
            "_________________________________________________________________\n",
            "dense_3 (Dense)              (None, 128)               1179776   \n",
            "_________________________________________________________________\n",
            "dropout_4 (Dropout)          (None, 128)               0         \n",
            "_________________________________________________________________\n",
            "dense_4 (Dense)              (None, 10)                1290      \n",
            "=================================================================\n",
            "Total params: 1,199,882\n",
            "Trainable params: 1,199,882\n",
            "Non-trainable params: 0\n",
            "_________________________________________________________________\n",
            "oneshot ready\n",
            "redy!\n",
            " * Serving Flask app \"__main__\" (lazy loading)\n",
            " * Environment: production\n",
            "   WARNING: This is a development server. Do not use it in a production deployment.\n",
            "   Use a production WSGI server instead.\n",
            " * Debug mode: off\n"
          ],
          "name": "stdout"
        },
        {
          "output_type": "stream",
          "text": [
            "I0816 08:18:32.931678 140323767650176 _internal.py:122]  * Running on http://127.0.0.1:6006/ (Press CTRL+C to quit)\n",
            "I0816 08:18:58.337635 140321214834432 _internal.py:122] 127.0.0.1 - - [16/Aug/2019 08:18:58] \"\u001b[37mGET / HTTP/1.1\u001b[0m\" 200 -\n",
            "I0816 08:18:59.876526 140321214834432 _internal.py:122] 127.0.0.1 - - [16/Aug/2019 08:18:59] \"\u001b[33mGET /favicon.ico HTTP/1.1\u001b[0m\" 404 -\n"
          ],
          "name": "stderr"
        },
        {
          "output_type": "display_data",
          "data": {
            "image/png": "[encoded data removed]",
            "text/plain": [
              "<Figure size 432x288 with 1 Axes>"
            ]
          },
          "metadata": {
            "tags": []
          }
        },
        {
          "output_type": "stream",
          "text": [
            "予測： 3\n",
            "確率： 0.99999726\n"
          ],
          "name": "stdout"
        },
        {
          "output_type": "stream",
          "text": [
            "I0816 08:19:06.080064 140321214834432 _internal.py:122] 127.0.0.1 - - [16/Aug/2019 08:19:06] \"\u001b[37mGET /api?p=0,0,0,0,0,0,0,0,0,0,0,0,0,0,0,0,0,0,0,0,0,0,0,0,0,0,0,0,0,0,0,0,0,0,0,0,0,0,0,0,0,0,0,0,0,0,0,0,0,0,0,0,0,0,0,0,0,0,0,0,0,0,0,0,21,255,255,255,255,255,255,255,255,255,14,0,0,0,0,0,0,0,0,0,0,0,0,0,0,0,2,255,255,255,255,255,255,255,255,255,255,255,255,0,0,0,0,0,0,0,0,0,0,0,0,0,0,213,255,255,255,0,0,0,0,0,0,0,0,0,255,255,0,0,0,0,0,0,0,0,0,0,0,0,0,12,255,0,0,0,0,0,0,0,0,0,0,0,255,255,0,0,0,0,0,0,0,0,0,0,0,0,0,0,0,0,0,0,0,0,0,0,0,0,0,0,255,255,0,0,0,0,0,0,0,0,0,0,0,0,0,0,0,0,0,0,0,0,0,0,0,0,0,0,255,255,0,0,0,0,0,0,0,0,0,0,0,0,0,0,0,0,0,0,0,0,0,0,0,0,0,137,255,255,0,0,0,0,0,0,0,0,0,0,0,0,0,0,0,0,0,0,0,255,250,255,255,255,255,255,255,0,0,0,0,0,0,0,0,0,0,0,0,0,0,0,0,0,0,0,87,255,255,255,255,255,255,238,0,0,0,0,0,0,0,0,0,0,0,0,0,0,0,0,0,0,0,0,0,0,198,255,255,255,255,255,255,0,0,0,0,0,0,0,0,0,0,0,0,0,0,0,0,0,0,0,0,0,0,0,0,0,161,255,255,255,255,255,11,0,0,0,0,0,0,0,0,0,0,0,0,0,0,0,0,0,0,0,0,0,0,0,0,242,255,255,255,0,0,0,0,0,0,0,0,0,0,0,0,0,0,0,0,0,0,0,0,0,0,0,0,0,0,96,255,0,0,0,0,0,0,0,0,0,0,0,0,0,0,0,0,0,0,0,0,0,0,0,0,0,0,253,255,0,0,0,0,0,0,0,0,0,0,0,0,0,0,0,0,0,0,0,0,0,0,0,0,0,6,255,255,0,0,0,0,0,0,0,0,0,0,0,0,0,0,0,0,0,0,0,0,0,0,0,0,0,255,255,0,0,0,0,0,0,0,0,0,0,0,0,164,0,0,0,0,0,0,0,0,0,0,0,251,255,255,4,0,0,0,0,0,0,0,0,0,0,0,29,255,255,0,0,0,0,0,0,0,0,3,255,255,255,0,0,0,0,0,0,0,0,0,0,0,0,0,0,255,255,255,255,241,242,255,255,255,255,255,255,252,0,0,0,0,0,0,0,0,0,0,0,0,0,0,0,0,255,255,255,255,255,255,255,255,255,246,0,0,0,0,0,0,0,0,0,0,0,0,0,0,0,0,0,0,0,0,0,0,0,0,0,0,0,0,0,0,0,0,0,0,0,0,0,0,0,0,0,0,0,0,0,0,0,0,0,0,0,0,0,0,0,0,0,0,0,0,0,0,0,0,0,0,0,0,0,0,0,0,0,0,0,0,0,0,0,0,0,0,0,0,0,0,0,0,0,0,0,0,0,0,0,0,0,0,0,0,0,0,0,0,0,0,0,0,0,0,0,0,0,0,0,0,0,0,0,0,0,0,0,0,0,0,0,0,0,0,0,0,0,0,0,0,0,0,0,0,0,0,0,0,0,0,0,0,0,0,0,0,0,0,0,0,0,0,0,0,0,0,0,0,0,0,0,0,0,0,0,0,0,0,0,0,0,0,0 HTTP/1.1\u001b[0m\" 200 -\n"
          ],
          "name": "stderr"
        },
        {
          "output_type": "stream",
          "text": [
            "res =  3\n"
          ],
          "name": "stdout"
        },
        {
          "output_type": "display_data",
          "data": {
            "image/png": "[encoded data removed]",
            "text/plain": [
              "<Figure size 432x288 with 1 Axes>"
            ]
          },
          "metadata": {
            "tags": []
          }
        },
        {
          "output_type": "stream",
          "text": [
            "予測： 7\n",
            "確率： 0.9678555\n"
          ],
          "name": "stdout"
        },
        {
          "output_type": "stream",
          "text": [
            "I0816 08:19:25.746276 140321214834432 _internal.py:122] 127.0.0.1 - - [16/Aug/2019 08:19:25] \"\u001b[37mGET /api?p=0,0,0,0,0,0,0,0,0,0,0,0,0,0,0,0,0,0,0,0,0,0,0,0,0,0,0,0,0,0,0,0,0,0,0,0,0,0,0,0,0,0,0,0,0,0,0,0,0,0,0,0,0,0,0,0,0,0,0,0,0,0,0,0,0,0,0,0,0,0,0,0,0,0,0,0,0,0,0,0,0,0,0,0,0,0,0,0,0,0,0,0,255,255,255,255,255,255,255,255,255,187,0,0,0,0,0,0,0,0,0,0,0,0,0,0,0,71,255,255,255,255,255,255,255,255,255,255,255,255,71,0,0,0,0,0,0,0,0,0,0,0,0,0,255,255,255,255,0,0,0,0,0,0,0,0,0,255,0,0,0,0,0,0,0,0,0,0,0,0,0,255,255,255,0,0,0,0,0,0,0,0,0,0,0,0,0,0,0,0,0,0,0,0,0,0,0,0,0,255,255,0,0,0,0,0,0,0,0,0,0,0,0,255,255,0,0,0,0,0,0,0,0,0,0,0,0,255,255,0,0,0,0,0,0,0,0,0,0,0,255,255,255,0,0,0,0,0,0,0,0,0,0,0,0,255,255,0,0,0,0,0,0,0,0,0,0,255,255,255,0,0,0,0,0,0,0,0,0,0,0,0,0,50,255,255,149,0,0,0,0,0,0,0,238,255,255,0,0,0,0,0,0,0,0,0,0,0,0,0,0,0,88,255,255,255,255,182,0,0,0,0,255,255,251,0,0,0,0,0,0,0,0,0,0,0,0,0,0,0,0,0,206,255,255,255,255,255,255,255,255,255,0,0,0,0,0,0,0,0,0,0,0,0,0,0,0,0,0,0,0,0,0,0,254,255,255,255,255,0,0,0,0,0,0,0,0,0,0,0,0,0,0,0,0,0,0,0,0,0,0,0,0,0,0,255,255,0,0,0,0,0,0,0,0,0,0,0,0,0,0,0,0,0,0,0,0,0,0,0,0,0,0,255,255,0,0,0,0,0,0,0,0,0,0,0,0,0,0,0,0,0,0,0,0,0,0,0,0,0,0,255,255,0,0,0,0,0,0,0,0,0,0,0,0,0,0,0,0,0,0,0,0,0,0,0,0,0,255,255,0,0,0,0,0,0,0,0,0,0,0,0,0,0,0,0,0,0,0,0,0,0,0,0,0,0,255,255,0,0,0,0,0,0,0,0,0,0,0,0,0,0,0,0,0,0,0,0,0,0,0,0,0,241,255,0,0,0,0,0,0,0,0,0,0,0,0,0,0,0,0,0,0,0,0,0,0,0,0,0,0,255,255,0,0,0,0,0,0,0,0,0,0,0,0,0,0,0,0,0,0,0,0,0,0,0,0,0,255,255,179,0,0,0,0,0,0,0,0,0,0,0,0,0,0,0,0,0,0,0,0,0,0,0,0,0,255,255,0,0,0,0,0,0,0,0,0,0,0,0,0,0,0,0,0,0,0,0,0,0,0,0,0,254,255,119,0,0,0,0,0,0,0,0,0,0,0,0,0,0,0,0,0,0,0,0,0,0,0,0,0,0,0,0,0,0,0,0,0,0,0,0,0,0,0,0,0,0,0,0,0,0,0,0,0,0,0,0,0,0,0,0,0,0,0,0,0,0,0,0,0,0,0,0,0,0,0,0,0,0,0,0,0,0,0,0,0,0,0,0,0,0,0,0,0,0,0,0,0,0,0,0,0,0,0,0,0,0,0,0,0,0,0,0,0,0,0,0,0,0,0,0,0,0,0,0,0,0,0,0,0,0,0,0 HTTP/1.1\u001b[0m\" 200 -\n"
          ],
          "name": "stderr"
        },
        {
          "output_type": "stream",
          "text": [
            "res =  7\n"
          ],
          "name": "stdout"
        },
        {
          "output_type": "display_data",
          "data": {
            "image/png": "[encoded data removed]",
            "text/plain": [
              "<Figure size 432x288 with 1 Axes>"
            ]
          },
          "metadata": {
            "tags": []
          }
        },
        {
          "output_type": "stream",
          "text": [
            "予測： 7\n",
            "確率： 0.99965143\n"
          ],
          "name": "stdout"
        },
        {
          "output_type": "stream",
          "text": [
            "I0816 08:19:47.543127 140321214834432 _internal.py:122] 127.0.0.1 - - [16/Aug/2019 08:19:47] \"\u001b[37mGET /api?p=0,0,0,0,0,0,0,0,0,0,0,0,0,0,0,0,0,0,0,0,0,0,0,0,0,0,0,0,0,0,0,0,0,0,0,0,0,0,0,0,0,0,0,0,0,0,0,0,0,0,0,0,0,0,0,0,0,0,0,0,0,0,0,0,0,0,0,0,0,0,0,0,0,0,0,0,0,0,0,0,0,0,0,0,0,0,0,0,0,0,0,0,0,0,0,0,0,0,0,0,0,0,0,0,0,0,0,0,0,0,0,0,0,0,0,0,255,255,255,255,255,255,255,255,255,255,255,255,255,255,255,255,255,255,255,255,0,0,0,0,0,0,0,0,255,255,255,255,255,255,255,255,255,255,255,255,255,255,255,255,255,255,255,255,255,0,0,0,0,0,0,0,0,255,255,0,0,0,0,0,0,0,0,0,0,0,0,0,0,10,255,255,0,0,0,0,0,0,0,0,0,255,255,220,0,0,0,0,0,0,0,0,0,0,0,0,0,255,255,0,0,0,0,0,0,0,0,0,0,0,255,255,0,0,0,0,0,0,0,0,0,0,0,0,255,255,12,0,0,0,0,0,0,0,0,0,0,0,0,255,255,0,0,0,0,0,0,0,0,0,0,6,255,255,0,0,0,0,0,0,0,0,0,0,0,0,0,163,255,0,0,0,0,0,0,0,0,0,0,255,255,0,0,0,0,0,0,0,0,0,0,0,0,0,0,0,0,0,0,0,0,0,0,0,0,0,0,255,255,0,0,0,0,0,0,0,0,0,0,0,0,0,0,0,0,0,0,0,0,0,0,0,0,0,255,255,0,0,0,0,0,0,0,0,0,0,0,0,0,0,0,0,0,0,0,0,0,0,0,0,0,2,255,255,0,0,0,0,0,0,0,0,0,0,0,0,0,0,0,0,0,0,0,0,0,0,0,0,0,255,255,0,0,0,0,0,0,0,0,0,0,0,0,0,0,0,0,0,0,0,0,0,0,0,0,0,255,255,199,0,0,0,0,0,0,0,0,0,0,0,0,0,0,0,0,0,0,0,0,0,0,0,0,5,255,255,0,0,0,0,0,0,0,0,0,0,0,0,0,0,0,0,0,0,0,0,0,0,0,0,0,255,255,0,0,0,0,0,0,0,0,0,0,0,0,0,0,0,0,0,0,0,0,0,0,0,0,0,255,255,25,0,0,0,0,0,0,0,0,0,0,0,0,0,0,0,0,0,0,0,0,0,0,0,0,57,255,255,0,0,0,0,0,0,0,0,0,0,0,0,0,0,0,0,0,0,0,0,0,0,0,0,0,255,255,0,0,0,0,0,0,0,0,0,0,0,0,0,0,0,0,0,0,0,0,0,0,0,0,0,0,255,255,0,0,0,0,0,0,0,0,0,0,0,0,0,0,0,0,0,0,0,0,0,0,0,0,0,0,255,224,0,0,0,0,0,0,0,0,0,0,0,0,0,0,0,0,0,0,0,0,0,0,0,0,0,0,0,0,0,0,0,0,0,0,0,0,0,0,0,0,0,0,0,0,0,0,0,0,0,0,0,0,0,0,0,0,0,0,0,0,0,0,0,0,0,0,0,0,0,0,0,0,0,0,0,0,0,0,0,0,0,0,0,0,0,0,0,0,0,0,0,0,0,0,0,0,0,0,0,0,0,0,0,0,0,0,0,0,0,0,0,0,0,0,0,0,0,0,0,0,0,0,0,0,0,0,0,0,0,0,0,0,0,0,0,0,0,0,0,0,0,0,0,0,0,0,0,0,0,0,0,0,0 HTTP/1.1\u001b[0m\" 200 -\n"
          ],
          "name": "stderr"
        },
        {
          "output_type": "stream",
          "text": [
            "res =  7\n"
          ],
          "name": "stdout"
        },
        {
          "output_type": "display_data",
          "data": {
            "image/png": "[encoded data removed]",
            "text/plain": [
              "<Figure size 432x288 with 1 Axes>"
            ]
          },
          "metadata": {
            "tags": []
          }
        },
        {
          "output_type": "stream",
          "text": [
            "予測： 8\n",
            "確率： 1.0\n"
          ],
          "name": "stdout"
        },
        {
          "output_type": "stream",
          "text": [
            "I0816 08:19:56.750957 140321214834432 _internal.py:122] 127.0.0.1 - - [16/Aug/2019 08:19:56] \"\u001b[37mGET /api?p=0,0,0,0,0,0,0,0,0,0,0,0,0,0,0,0,0,0,0,0,0,0,0,0,0,0,0,0,0,0,0,0,0,0,0,0,0,0,0,0,0,0,0,0,0,0,0,0,0,0,0,0,0,0,0,0,0,0,0,0,0,0,0,0,0,0,0,0,0,0,0,0,0,0,0,0,0,0,0,0,0,0,0,0,0,0,0,0,0,0,0,0,255,255,255,255,255,255,255,255,0,0,0,0,0,0,0,0,0,0,0,0,0,0,0,0,0,0,0,255,255,255,132,255,255,255,255,255,255,255,0,0,0,0,0,0,0,0,0,0,0,0,0,0,0,0,12,255,255,0,0,0,0,0,0,146,255,255,0,0,0,0,0,0,0,0,0,0,0,0,0,0,0,0,255,255,0,0,0,0,0,0,0,0,46,255,65,0,0,0,0,0,0,0,0,0,0,0,0,0,0,0,255,251,0,0,0,0,0,0,0,0,255,255,0,0,0,0,0,0,0,0,0,0,0,0,0,0,0,0,255,255,0,0,0,0,0,0,0,0,255,255,0,0,0,0,0,0,0,0,0,0,0,0,0,0,0,0,255,255,51,0,0,0,0,0,0,255,255,0,0,0,0,0,0,0,0,0,0,0,0,0,0,0,0,0,0,255,255,0,0,0,0,0,255,255,255,0,0,0,0,0,0,0,0,0,0,0,0,0,0,0,0,0,0,0,255,255,0,0,3,255,255,255,0,0,0,0,0,0,0,0,0,0,0,0,0,0,0,0,0,0,0,0,0,255,255,191,255,255,32,0,0,0,0,0,0,0,0,0,0,0,0,0,0,0,0,0,0,0,0,0,0,0,255,255,255,0,0,0,0,0,0,0,0,0,0,0,0,0,0,0,0,0,0,0,0,0,0,0,0,0,255,255,255,255,0,0,0,0,0,0,0,0,0,0,0,0,0,0,0,0,0,0,0,0,0,0,0,255,255,96,255,255,255,0,0,0,0,0,0,0,0,0,0,0,0,0,0,0,0,0,0,0,0,0,18,255,255,0,0,236,255,255,230,0,0,0,0,0,0,0,0,0,0,0,0,0,0,0,0,0,0,0,255,255,0,0,0,0,0,255,255,255,0,0,0,0,0,0,0,0,0,0,0,0,0,0,0,0,0,0,255,255,0,0,0,0,0,0,255,255,255,0,0,0,0,0,0,0,0,0,0,0,0,0,0,0,0,0,255,255,0,0,0,0,0,0,0,255,255,0,0,0,0,0,0,0,0,0,0,0,0,0,0,0,0,0,255,255,0,0,0,0,0,0,0,0,255,255,0,0,0,0,0,0,0,0,0,0,0,0,0,0,0,0,255,255,255,118,0,0,0,0,0,76,255,255,0,0,0,0,0,0,0,0,0,0,0,0,0,0,0,0,0,255,255,255,255,255,255,255,255,255,255,0,0,0,0,0,0,0,0,0,0,0,0,0,0,0,0,0,0,0,0,197,255,255,255,255,255,255,0,0,0,0,0,0,0,0,0,0,0,0,0,0,0,0,0,0,0,0,0,0,0,0,0,0,0,0,0,0,0,0,0,0,0,0,0,0,0,0,0,0,0,0,0,0,0,0,0,0,0,0,0,0,0,0,0,0,0,0,0,0,0,0,0,0,0,0,0,0,0,0,0,0,0,0,0,0,0,0,0,0,0,0,0,0,0,0,0,0,0,0,0,0,0,0,0,0,0,0,0,0,0,0,0,0,0,0,0,0,0,0,0,0,0,0,0,0,0,0,0,0 HTTP/1.1\u001b[0m\" 200 -\n"
          ],
          "name": "stderr"
        },
        {
          "output_type": "stream",
          "text": [
            "res =  8\n"
          ],
          "name": "stdout"
        },
        {
          "output_type": "display_data",
          "data": {
            "image/png": "[encoded data removed]",
            "text/plain": [
              "<Figure size 432x288 with 1 Axes>"
            ]
          },
          "metadata": {
            "tags": []
          }
        },
        {
          "output_type": "stream",
          "text": [
            "予測： 2\n",
            "確率： 0.9998066\n"
          ],
          "name": "stdout"
        },
        {
          "output_type": "stream",
          "text": [
            "I0816 08:20:46.377729 140321214834432 _internal.py:122] 127.0.0.1 - - [16/Aug/2019 08:20:46] \"\u001b[37mGET /api?p=0,0,0,0,0,0,0,0,0,0,0,0,0,0,0,0,0,0,0,0,0,0,0,0,0,0,0,0,0,0,0,0,0,0,0,0,0,0,0,0,0,0,0,0,0,0,0,0,0,0,0,0,0,0,0,0,0,0,0,0,0,0,0,0,0,0,0,0,0,0,0,0,0,0,0,0,0,0,0,0,0,0,0,0,0,0,0,0,0,0,0,0,0,0,0,0,255,255,255,0,0,0,0,0,0,0,0,0,0,0,0,0,0,0,0,0,0,0,0,0,0,0,0,0,255,255,255,255,255,54,0,0,0,0,0,0,0,0,0,0,0,0,0,0,0,0,0,0,0,0,0,0,0,0,0,255,255,255,255,135,0,0,0,0,0,0,0,0,0,0,0,0,0,0,0,0,0,0,0,0,0,0,0,0,0,234,255,255,250,0,0,0,0,0,0,0,0,0,0,0,0,0,0,0,0,0,0,0,0,0,0,0,0,0,0,255,255,0,0,0,0,0,0,0,0,0,0,0,0,0,0,0,0,0,0,0,0,0,0,0,0,0,0,255,255,0,0,0,0,0,0,0,0,0,0,0,0,0,0,0,0,0,0,0,0,0,0,0,0,0,255,255,0,0,0,0,0,0,0,0,0,0,0,0,0,0,0,0,0,0,0,0,0,0,0,0,0,255,255,38,0,0,0,0,0,0,0,0,0,0,0,0,0,0,0,0,0,0,0,0,0,0,0,0,255,255,193,0,0,0,0,0,0,0,0,0,0,0,0,0,0,0,0,0,0,0,0,0,0,0,0,255,255,224,0,0,0,0,0,0,0,0,0,0,0,0,0,0,0,0,0,0,0,0,0,0,0,0,255,255,255,0,0,0,0,0,0,0,0,0,0,0,0,0,0,0,0,0,0,0,0,0,0,0,0,255,255,255,0,0,0,0,0,0,0,0,0,0,0,0,0,0,0,0,0,0,0,0,0,0,0,0,134,255,255,0,0,0,0,0,0,0,0,0,0,0,0,0,0,0,0,0,0,0,0,0,0,0,0,0,255,255,0,0,0,0,0,0,0,0,0,0,0,0,0,0,0,0,0,0,0,0,0,0,0,0,0,255,255,0,0,0,0,0,0,0,0,0,0,0,0,0,0,0,0,0,0,0,0,0,0,0,0,0,34,255,255,0,0,0,0,0,0,0,0,0,0,0,0,0,0,0,0,0,0,0,0,0,0,0,0,0,255,255,0,0,0,0,0,0,0,0,0,0,0,0,0,0,0,0,0,0,0,0,0,0,0,0,0,148,255,255,0,0,0,0,0,0,0,0,0,0,0,0,0,0,0,0,0,0,0,0,0,0,0,0,0,255,255,0,0,0,0,0,0,0,0,0,0,0,0,0,0,0,0,0,0,0,0,0,0,0,0,0,23,255,255,0,0,0,0,0,0,0,0,0,0,0,0,0,0,0,0,0,0,0,0,0,0,0,0,0,255,255,255,51,0,0,44,72,71,0,0,0,0,0,0,0,0,0,0,0,0,0,0,0,0,0,0,0,255,255,255,255,255,255,255,255,255,255,255,0,0,0,0,0,0,0,0,0,0,0,0,0,0,0,0,0,0,0,0,35,96,106,69,11,21,231,0,0,0,0,0,0,0,0,0,0,0,0,0,0,0,0,0,0,0,0,0,0,0,0,0,0,0,0,0,0,0,0,0,0,0,0,0,0,0,0,0,0,0,0,0,0,0,0,0,0,0,0,0,0,0,0,0,0,0,0,0,0,0,0,0,0 HTTP/1.1\u001b[0m\" 200 -\n"
          ],
          "name": "stderr"
        },
        {
          "output_type": "stream",
          "text": [
            "res =  2\n"
          ],
          "name": "stdout"
        },
        {
          "output_type": "display_data",
          "data": {
            "image/png": "[encoded data removed]",
            "text/plain": [
              "<Figure size 432x288 with 1 Axes>"
            ]
          },
          "metadata": {
            "tags": []
          }
        },
        {
          "output_type": "stream",
          "text": [
            "予測： 4\n",
            "確率： 0.8978465\n"
          ],
          "name": "stdout"
        },
        {
          "output_type": "stream",
          "text": [
            "I0816 08:20:59.604393 140321214834432 _internal.py:122] 127.0.0.1 - - [16/Aug/2019 08:20:59] \"\u001b[37mGET /api?p=0,0,0,0,0,0,0,0,0,0,0,0,0,0,0,0,0,0,0,0,0,0,0,0,0,0,0,0,0,0,0,0,0,0,0,0,0,0,0,0,0,0,0,0,0,0,0,0,0,0,0,0,0,0,0,0,0,0,0,0,0,0,0,0,0,0,0,0,0,0,0,0,0,0,0,0,0,0,0,0,0,0,0,0,0,0,0,0,0,0,0,0,0,0,0,0,0,0,0,0,0,0,0,0,0,0,0,0,0,0,0,0,0,0,0,0,0,0,0,0,0,0,0,0,0,0,0,0,0,0,0,0,0,0,0,0,0,0,0,0,0,0,0,0,0,0,0,0,0,0,0,173,65,0,0,0,0,0,0,0,0,0,0,0,0,0,0,0,0,0,0,0,0,0,0,0,0,0,255,255,255,0,0,0,0,0,0,0,0,0,0,0,0,0,0,0,0,0,0,0,0,0,0,0,0,244,255,255,0,0,0,0,0,0,0,0,0,0,0,0,0,0,0,0,0,0,0,0,0,0,0,0,25,255,255,0,0,0,0,0,0,0,0,0,0,0,0,0,0,0,0,0,0,0,0,0,0,0,0,0,255,255,0,0,0,0,0,0,0,0,0,0,0,0,0,0,0,0,0,0,0,0,0,0,0,0,0,251,255,202,0,0,0,0,0,0,0,0,0,0,0,0,0,0,0,0,0,0,0,0,0,0,0,0,0,255,255,0,0,0,0,0,0,0,0,0,0,0,0,0,0,0,0,0,0,0,0,0,0,0,0,0,255,255,28,0,0,0,0,0,0,0,0,0,0,0,0,0,0,0,0,0,0,0,0,0,0,0,0,0,255,255,0,0,0,0,0,0,0,0,0,0,0,0,0,0,0,0,0,0,0,0,0,0,0,0,0,0,255,255,0,0,0,0,0,0,0,0,0,0,0,0,0,0,0,0,0,0,0,0,0,0,0,0,0,255,255,0,0,0,0,0,0,0,0,0,0,0,0,0,0,0,0,0,0,0,0,0,0,0,0,0,0,255,255,255,255,255,255,255,255,255,255,255,255,255,94,25,0,0,0,0,0,0,0,0,0,0,0,0,0,0,255,255,255,255,255,255,255,255,255,255,255,255,255,255,255,255,255,255,0,0,0,0,0,0,0,0,0,0,0,0,0,0,0,0,0,0,0,0,0,0,0,50,96,255,255,255,0,0,0,0,0,0,0,0,0,0,0,0,0,0,0,0,0,0,0,0,0,0,0,0,0,0,0,0,0,0,0,0,0,0,0,0,0,0,0,0,0,0,0,0,0,0,0,0,0,0,0,0,0,0,0,0,0,0,0,0,0,0,0,0,0,0,0,0,0,0,0,0,0,0,0,0,0,0,0,0,0,0,0,0,0,0,0,0,0,0,0,0,0,0,0,0,0,0,0,0,0,0,0,0,0,0,0,0,0,0,0,0,0,0,0,0,0,0,0,0,0,0,0,0,0,0,0,0,0,0,0,0,0,0,0,0,0,0,0,0,0,0,0,0,0,0,0,0,0,0,0,0,0,0,0,0,0,0,0,0,0,0,0,0,0,0,0,0,0,0,0,0,0,0,0,0,0,0,0,0,0,0,0,0,0,0,0,0,0,0,0,0,0,0,0,0,0,0,0,0,0,0,0,0,0,0,0,0,0,0,0,0,0,0,0,0,0,0,0,0,0,0,0,0,0,0,0,0,0,0,0,0,0,0,0,0,0,0,0,0,0,0,0,0,0,0,0,0,0,0,0,0,0,0,0,0 HTTP/1.1\u001b[0m\" 200 -\n"
          ],
          "name": "stderr"
        },
        {
          "output_type": "stream",
          "text": [
            "res =  4\n"
          ],
          "name": "stdout"
        }
      ]
    },
    {
      "cell_type": "markdown",
      "metadata": {
        "id": "rTbAN9Gdh8Vo",
        "colab_type": "text"
      },
      "source": [
        "### 過去退避"
      ]
    },
    {
      "cell_type": "code",
      "metadata": {
        "id": "_c5a5N1PvQL-",
        "colab_type": "code",
        "outputId": "d60a104c-4c24-4f74-997a-60f9795c65d0",
        "colab": {
          "base_uri": "https://localhost:8080/",
          "height": 247
        }
      },
      "source": [
        "#\n",
        "# 5. ngrokで仮想ドメイン取得\n",
        "#\n",
        "get_ipython().system_raw('./ngrok http 6006 &')\n",
        "! curl -s http://localhost:4040/api/tunnels | python3 -c \"import sys, json; print(json.load(sys.stdin)['tunnels'][0]['public_url'])\"\n",
        "#! curl -s http://localhost:4040/api/tunnels\n",
        "\n",
        "#\n",
        "# 6. mnist oneshot処理の起動とwebサーバー立ち上げ\n",
        "#\n",
        "\n",
        "# coding: utf-8\n",
        "\n",
        "from flask import Flask,request, render_template\n",
        "import numpy as np\n",
        "\n",
        "# 子処理の立ち上げ\n",
        "#print ('loading mnist_cnn_oneshot...')\n",
        "#import keras_mnist_cnn_oneshot as oneshot\n",
        "\n",
        "# kerasのバグ対応（モデルを別スレッドで使用できない）\n",
        "graph = tf.get_default_graph()\n",
        "\n",
        "def oneshot(line):\n",
        "  # kerasのバグ対応（モデルを別スレッドで使用できない）\n",
        "  with graph.as_default():\n",
        "    ww = list(map(lambda x: float(int(x) / 255), line.split(',')))\n",
        "    xx = np.reshape(ww, (1, 28, 28, 1))\n",
        "    xx = xx.astype('float32')\n",
        "    out = model.predict(xx)\n",
        "    ans = np.argmax(out.data)\n",
        "    print('スレッド=',ans)\n",
        "    return ans\n",
        "\n",
        "# webサーバーの立ち上げ\n",
        "#print ('redy!')\n",
        "app = Flask(__name__)\n",
        "\n",
        "# 入力ページ\n",
        "@app.route('/')\n",
        "def index():\n",
        "    html = render_template('index.html')\n",
        "    return html\n",
        "\n",
        "# API\n",
        "@app.route('/api')\n",
        "def api():\n",
        "    p = request.args.get('p')\n",
        "    #print ('p = ', p)\n",
        "    res = oneshot(p)\n",
        "    print ('res = ', res)\n",
        "    return str(res)\n",
        "\n",
        "if __name__ == '__main__':\n",
        "    app.run(port=6006)"
      ],
      "execution_count": 29,
      "outputs": [
        {
          "output_type": "stream",
          "text": [
            "https://0eaacfd5.ngrok.io\n",
            " * Serving Flask app \"__main__\" (lazy loading)\n",
            " * Environment: production\n",
            "   WARNING: This is a development server. Do not use it in a production deployment.\n",
            "   Use a production WSGI server instead.\n",
            " * Debug mode: off\n"
          ],
          "name": "stdout"
        },
        {
          "output_type": "stream",
          "text": [
            "I0816 06:56:29.387845 139785080752000 _internal.py:122]  * Running on http://127.0.0.1:6006/ (Press CTRL+C to quit)\n",
            "I0816 06:56:46.810573 139782534674176 _internal.py:122] 127.0.0.1 - - [16/Aug/2019 06:56:46] \"\u001b[37mGET / HTTP/1.1\u001b[0m\" 200 -\n",
            "I0816 06:56:47.880008 139782534674176 _internal.py:122] 127.0.0.1 - - [16/Aug/2019 06:56:47] \"\u001b[33mGET /favicon.ico HTTP/1.1\u001b[0m\" 404 -\n",
            "I0816 06:56:52.899744 139782534674176 _internal.py:122] 127.0.0.1 - - [16/Aug/2019 06:56:52] \"\u001b[37mGET /api?p=0,0,0,0,0,0,0,0,0,0,0,0,0,0,0,0,0,0,0,0,0,0,0,0,0,0,0,0,0,0,0,0,0,0,0,0,0,0,0,0,0,0,0,0,0,0,0,0,0,0,0,0,0,0,0,0,0,0,0,0,0,0,0,0,0,0,0,0,53,255,255,222,0,0,0,0,0,0,0,0,0,0,0,0,0,0,0,0,0,0,0,0,0,255,255,255,255,255,255,255,255,0,0,0,0,0,0,0,0,0,0,0,0,0,0,0,0,0,0,1,255,255,255,255,63,0,0,255,255,255,0,0,0,0,0,0,0,0,0,0,0,0,0,0,0,0,15,255,255,0,0,0,0,0,0,0,255,255,0,0,0,0,0,0,0,0,0,0,0,0,0,0,0,0,255,255,0,0,0,0,0,0,0,0,255,255,0,0,0,0,0,0,0,0,0,0,0,0,0,0,0,0,0,0,0,0,0,0,0,0,0,0,255,255,0,0,0,0,0,0,0,0,0,0,0,0,0,0,0,0,0,0,0,0,0,0,0,0,0,14,255,255,0,0,0,0,0,0,0,0,0,0,0,0,0,0,0,0,0,0,0,0,0,0,0,0,0,255,255,0,0,0,0,0,0,0,0,0,0,0,0,0,0,0,0,0,0,0,0,0,0,0,0,0,255,255,0,0,0,0,0,0,0,0,0,0,0,0,0,0,0,0,0,0,0,0,0,0,0,0,240,255,255,118,0,0,0,0,0,0,0,0,0,0,0,0,0,0,0,0,0,0,0,0,0,0,0,255,255,255,0,0,0,0,0,0,0,0,0,0,0,0,0,0,0,0,0,0,0,0,0,0,0,0,255,255,255,0,0,0,0,0,0,0,0,0,0,0,0,0,0,0,0,0,0,0,0,0,0,0,0,255,255,255,0,0,0,0,0,0,0,0,0,0,0,0,0,0,0,0,0,0,0,0,0,0,0,0,214,255,255,0,0,0,0,0,0,0,0,0,0,0,0,0,0,0,0,0,0,0,0,0,0,0,0,0,255,255,0,0,0,0,0,0,0,0,0,0,0,0,0,0,0,0,0,0,0,0,0,0,0,0,0,231,255,254,0,0,0,0,0,0,0,0,0,0,0,0,0,0,0,0,0,0,0,0,0,0,0,0,0,255,255,0,0,0,0,0,0,0,0,0,0,0,0,0,0,0,0,0,0,0,0,0,0,0,0,0,0,255,255,255,255,255,255,7,0,0,0,0,0,91,0,0,0,0,0,0,0,0,0,0,0,0,0,0,0,255,255,255,255,255,255,255,255,255,255,255,255,255,213,0,0,0,0,0,0,0,0,0,0,0,0,0,0,0,0,0,0,0,0,251,255,255,255,255,255,255,0,0,0,0,0,0,0,0,0,0,0,0,0,0,0,0,0,0,0,0,0,0,0,0,0,0,0,0,0,0,0,0,0,0,0,0,0,0,0,0,0,0,0,0,0,0,0,0,0,0,0,0,0,0,0,0,0,0,0,0,0,0,0,0,0,0,0,0,0,0,0,0,0,0,0,0,0,0,0,0,0,0,0,0,0,0,0,0,0,0,0,0,0,0,0,0,0,0,0,0,0,0,0,0,0,0,0,0,0,0,0,0,0,0,0,0,0,0,0,0,0,0,0,0,0,0,0,0,0,0,0,0,0,0,0,0,0,0,0,0,0,0,0,0,0,0,0,0,0,0,0,0,0,0,0,0,0,0,0,0,0,0,0,0,0,0,0,0,0,0,0,0,0,0,0,0 HTTP/1.1\u001b[0m\" 200 -\n"
          ],
          "name": "stderr"
        },
        {
          "output_type": "stream",
          "text": [
            "スレッド= 2\n",
            "res =  2\n"
          ],
          "name": "stdout"
        }
      ]
    }
  ]
}